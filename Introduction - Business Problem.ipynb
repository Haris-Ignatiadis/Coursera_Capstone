{
 "cells": [
  {
   "cell_type": "markdown",
   "metadata": {},
   "source": [
    "# Capstone Project - Cafe in Greece"
   ]
  },
  {
   "cell_type": "markdown",
   "metadata": {},
   "source": [
    "## Introduction - Business problem"
   ]
  },
  {
   "cell_type": "markdown",
   "metadata": {},
   "source": [
    "In the city of Athens, if someone is looking to open a coffee shop, a good question is where would you recommend that they open it? The background of the problem is that in order for the coffee shop to be profitable, there must be enough customers, and in order to have enough customers, it is not worth setting it up in the immediate promixity of existing ones.\n",
    "\n",
    "The audience of this report is explicitly defined to be the coffee shop entrepreuners in Athens as well as big companies that want to open a branch in Greece. They should care about this problem because the location of the new coffee shop has a significant impact on the expected returns on their investment."
   ]
  },
  {
   "cell_type": "code",
   "execution_count": null,
   "metadata": {},
   "outputs": [],
   "source": []
  }
 ],
 "metadata": {
  "kernelspec": {
   "display_name": "Python 3",
   "language": "python",
   "name": "python3"
  },
  "language_info": {
   "codemirror_mode": {
    "name": "ipython",
    "version": 3
   },
   "file_extension": ".py",
   "mimetype": "text/x-python",
   "name": "python",
   "nbconvert_exporter": "python",
   "pygments_lexer": "ipython3",
   "version": "3.6.9"
  }
 },
 "nbformat": 4,
 "nbformat_minor": 2
}

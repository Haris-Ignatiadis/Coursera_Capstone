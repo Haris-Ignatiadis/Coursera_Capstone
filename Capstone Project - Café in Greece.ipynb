{
 "cells": [
  {
   "cell_type": "markdown",
   "metadata": {},
   "source": [
    "# Capstone Project - Cafe in Greece\n",
    "### Applied Data Science Capstone by IBM/Coursera"
   ]
  },
  {
   "cell_type": "markdown",
   "metadata": {},
   "source": [
    "## Table of Contents\n",
    "* Introduction\n",
    "* Data\n",
    "* Methodology & Analysis\n",
    "* Results \n",
    "* Conclusion"
   ]
  },
  {
   "cell_type": "markdown",
   "metadata": {},
   "source": [
    "### Introduction "
   ]
  },
  {
   "cell_type": "markdown",
   "metadata": {},
   "source": [
    "In the city of Athens, if someone is looking to open a **coffee shop**, a good question is **where** would you recommend that they open it? The background of the problem is that in order for the coffee shop to be **profitable**, there must be enough **customers**, and in order to have enough customers, it is not worth setting it up in the immediate promixity of existing ones.\n",
    "\n",
    "The audience of this report is explicitly defined to be the coffee shop entrepreuners in Athens as well as big companies that want to open a branch in Greece. They should care about this problem because the location of the new coffee shop has a significant impact on the expected returns on their investment."
   ]
  },
  {
   "cell_type": "markdown",
   "metadata": {},
   "source": [
    "### Data"
   ]
  },
  {
   "cell_type": "markdown",
   "metadata": {},
   "source": [
    "The data used for this project will be extracted form Foursquare, specifically geolocation data. The dataframe will consist from the name of the coffeshops in many different neighborhoods, the shortname, the address, the postal code and lastly the latitude and longitude. The data will be used to develop an unsupervised machine learning model that will determine which areas are optimal for new coffee shops."
   ]
  },
  {
   "cell_type": "markdown",
   "metadata": {},
   "source": [
    "### Methodology & Analysis"
   ]
  },
  {
   "cell_type": "markdown",
   "metadata": {},
   "source": [
    "In this section we will connect to the Foursqare API to extract data about coffee shops in athens, mainly their locations. Next we will depict them on a map."
   ]
  },
  {
   "cell_type": "code",
   "execution_count": 8,
   "metadata": {},
   "outputs": [],
   "source": [
    "#Import libraries\n",
    "import pandas as pd\n",
    "import numpy as np\n",
    "import folium\n",
    "import requests"
   ]
  },
  {
   "cell_type": "code",
   "execution_count": 11,
   "metadata": {},
   "outputs": [],
   "source": [
    "CLIENT_ID = 'KE0QGFCBPWMPWNGRHDHPWUNBWGISCUHXRRR5WZBKNNG4BVC4'\n",
    "CLIENT_SECRET = 'REGG2LDRFQV4O4R5AO54F200QGUB5JE14HLGBK52JK5XT3FD'\n",
    "request_parameters = {\n",
    "    \"client_id\": CLIENT_ID,\n",
    "    \"client_secret\": CLIENT_SECRET,\n",
    "    \"v\": '20180605',\n",
    "    \"section\": \"coffee\",\n",
    "    \"near\": \"Athens\",\n",
    "    \"radius\": 1000,\n",
    "    \"limit\": 50}\n",
    "\n",
    "data = requests.get(\"https://api.foursquare.com/v2/venues/explore\", params=request_parameters)"
   ]
  },
  {
   "cell_type": "code",
   "execution_count": 12,
   "metadata": {},
   "outputs": [
    {
     "data": {
      "text/plain": [
       "dict_keys(['suggestedFilters', 'geocode', 'headerLocation', 'headerFullLocation', 'headerLocationGranularity', 'query', 'totalResults', 'suggestedBounds', 'groups'])"
      ]
     },
     "execution_count": 12,
     "metadata": {},
     "output_type": "execute_result"
    }
   ],
   "source": [
    "d = data.json()[\"response\"]\n",
    "d.keys()"
   ]
  },
  {
   "cell_type": "code",
   "execution_count": 13,
   "metadata": {},
   "outputs": [
    {
     "data": {
      "text/plain": [
       "('city', 'Athens', 'Athens')"
      ]
     },
     "execution_count": 13,
     "metadata": {},
     "output_type": "execute_result"
    }
   ],
   "source": [
    "d[\"headerLocationGranularity\"], d[\"headerLocation\"], d[\"headerFullLocation\"]"
   ]
  },
  {
   "cell_type": "code",
   "execution_count": 14,
   "metadata": {},
   "outputs": [
    {
     "data": {
      "text/plain": [
       "({'ne': {'lat': 37.98655822362449, 'lng': 23.72819810234214},\n",
       "  'sw': {'lat': 37.97294398192658, 'lng': 23.705742928296907}},\n",
       " 119)"
      ]
     },
     "execution_count": 14,
     "metadata": {},
     "output_type": "execute_result"
    }
   ],
   "source": [
    "d[\"suggestedBounds\"], d[\"totalResults\"]"
   ]
  },
  {
   "cell_type": "code",
   "execution_count": 15,
   "metadata": {},
   "outputs": [
    {
     "data": {
      "text/plain": [
       "{'what': '',\n",
       " 'where': 'athens',\n",
       " 'center': {'lat': 37.97945, 'lng': 23.71622},\n",
       " 'displayString': 'Athens, Attica, Greece',\n",
       " 'cc': 'GR',\n",
       " 'geometry': {'bounds': {'ne': {'lat': 38.070916906916594,\n",
       "    'lng': 23.851752904777918},\n",
       "   'sw': {'lat': 37.79618901343447, 'lng': 23.632542}}},\n",
       " 'slug': 'athens-greece',\n",
       " 'longId': '72057594038192307'}"
      ]
     },
     "execution_count": 15,
     "metadata": {},
     "output_type": "execute_result"
    }
   ],
   "source": [
    "d[\"geocode\"]"
   ]
  },
  {
   "cell_type": "code",
   "execution_count": 16,
   "metadata": {},
   "outputs": [
    {
     "data": {
      "text/plain": [
       "dict_keys(['type', 'name', 'items'])"
      ]
     },
     "execution_count": 16,
     "metadata": {},
     "output_type": "execute_result"
    }
   ],
   "source": [
    "d[\"groups\"][0].keys()"
   ]
  },
  {
   "cell_type": "code",
   "execution_count": 17,
   "metadata": {},
   "outputs": [
    {
     "data": {
      "text/plain": [
       "('Recommended Places', 'recommended')"
      ]
     },
     "execution_count": 17,
     "metadata": {},
     "output_type": "execute_result"
    }
   ],
   "source": [
    "d[\"groups\"][0][\"type\"], d[\"groups\"][0][\"name\"]"
   ]
  },
  {
   "cell_type": "code",
   "execution_count": 18,
   "metadata": {},
   "outputs": [
    {
     "name": "stdout",
     "output_type": "stream",
     "text": [
      "number of items: 50\n"
     ]
    },
    {
     "data": {
      "text/plain": [
       "{'reasons': {'count': 0,\n",
       "  'items': [{'summary': 'This spot is popular',\n",
       "    'type': 'general',\n",
       "    'reasonName': 'globalInteractionReason'}]},\n",
       " 'venue': {'id': '58947ad4469aef72f3b2f693',\n",
       "  'name': 'Holy Moly',\n",
       "  'location': {'address': 'Ιερά Οδός 21',\n",
       "   'lat': 37.97953295417367,\n",
       "   'lng': 23.714712327590686,\n",
       "   'labeledLatLngs': [{'label': 'display',\n",
       "     'lat': 37.97953295417367,\n",
       "     'lng': 23.714712327590686}],\n",
       "   'cc': 'GR',\n",
       "   'neighborhood': 'Γκάζι',\n",
       "   'country': 'Ελλάδα',\n",
       "   'formattedAddress': ['Ιερά Οδός 21', 'Ελλάδα']},\n",
       "  'categories': [{'id': '53e0feef498e5aac066fd8a9',\n",
       "    'name': 'Street Food Gathering',\n",
       "    'pluralName': 'Street Food Gatherings',\n",
       "    'shortName': 'Street Food Gathering',\n",
       "    'icon': {'prefix': 'https://ss3.4sqi.net/img/categories_v2/food/streetfood_',\n",
       "     'suffix': '.png'},\n",
       "    'primary': True}],\n",
       "  'photos': {'count': 0, 'groups': []}},\n",
       " 'referralId': 'e-5-58947ad4469aef72f3b2f693-0'}"
      ]
     },
     "execution_count": 18,
     "metadata": {},
     "output_type": "execute_result"
    }
   ],
   "source": [
    "items = d[\"groups\"][0][\"items\"]\n",
    "print(\"number of items: %i\" % len(items))\n",
    "items[0]"
   ]
  },
  {
   "cell_type": "code",
   "execution_count": 19,
   "metadata": {},
   "outputs": [
    {
     "data": {
      "text/plain": [
       "{'reasons': {'count': 0,\n",
       "  'items': [{'summary': 'This spot is popular',\n",
       "    'type': 'general',\n",
       "    'reasonName': 'globalInteractionReason'}]},\n",
       " 'venue': {'id': '529a0fa811d216d1bea7f4e9',\n",
       "  'name': 'КОЯØБA (Korova)',\n",
       "  'location': {'address': 'Κεραμεικού 93-95',\n",
       "   'crossStreet': 'Πλαταιών',\n",
       "   'lat': 37.98083850348248,\n",
       "   'lng': 23.716898746292802,\n",
       "   'labeledLatLngs': [{'label': 'display',\n",
       "     'lat': 37.98083850348248,\n",
       "     'lng': 23.716898746292802}],\n",
       "   'postalCode': '104 35',\n",
       "   'cc': 'GR',\n",
       "   'city': 'Κεραμεικός',\n",
       "   'state': 'Αττική',\n",
       "   'country': 'Ελλάδα',\n",
       "   'formattedAddress': ['Κεραμεικού 93-95 (Πλαταιών)',\n",
       "    '104 35 Κεραμεικός, Αττική',\n",
       "    'Ελλάδα']},\n",
       "  'categories': [{'id': '4bf58dd8d48988d16d941735',\n",
       "    'name': 'Café',\n",
       "    'pluralName': 'Cafés',\n",
       "    'shortName': 'Café',\n",
       "    'icon': {'prefix': 'https://ss3.4sqi.net/img/categories_v2/food/cafe_',\n",
       "     'suffix': '.png'},\n",
       "    'primary': True}],\n",
       "  'photos': {'count': 0, 'groups': []},\n",
       "  'venuePage': {'id': '84693391'}},\n",
       " 'referralId': 'e-5-529a0fa811d216d1bea7f4e9-1'}"
      ]
     },
     "execution_count": 19,
     "metadata": {},
     "output_type": "execute_result"
    }
   ],
   "source": [
    "items[1]"
   ]
  },
  {
   "cell_type": "markdown",
   "metadata": {},
   "source": [
    "We can create the dataframe with a simple for loop"
   ]
  },
  {
   "cell_type": "code",
   "execution_count": 24,
   "metadata": {},
   "outputs": [
    {
     "name": "stdout",
     "output_type": "stream",
     "text": [
      "found 44 cafes\n"
     ]
    },
    {
     "data": {
      "text/html": [
       "<div>\n",
       "<style scoped>\n",
       "    .dataframe tbody tr th:only-of-type {\n",
       "        vertical-align: middle;\n",
       "    }\n",
       "\n",
       "    .dataframe tbody tr th {\n",
       "        vertical-align: top;\n",
       "    }\n",
       "\n",
       "    .dataframe thead th {\n",
       "        text-align: right;\n",
       "    }\n",
       "</style>\n",
       "<table border=\"1\" class=\"dataframe\">\n",
       "  <thead>\n",
       "    <tr style=\"text-align: right;\">\n",
       "      <th></th>\n",
       "      <th>uid</th>\n",
       "      <th>name</th>\n",
       "      <th>shortname</th>\n",
       "      <th>address</th>\n",
       "      <th>postalcode</th>\n",
       "      <th>lat</th>\n",
       "      <th>lng</th>\n",
       "    </tr>\n",
       "  </thead>\n",
       "  <tbody>\n",
       "    <tr>\n",
       "      <th>0</th>\n",
       "      <td>529a0fa811d216d1bea7f4e9</td>\n",
       "      <td>КОЯØБA (Korova)</td>\n",
       "      <td>Café</td>\n",
       "      <td>Μεγάλου Αλεξάνδρου 124</td>\n",
       "      <td>104 35</td>\n",
       "      <td>37.980839</td>\n",
       "      <td>23.716899</td>\n",
       "    </tr>\n",
       "    <tr>\n",
       "      <th>1</th>\n",
       "      <td>52b45b33498ec4eceb367aff</td>\n",
       "      <td>Μπλε Παπαγάλος</td>\n",
       "      <td>Bar</td>\n",
       "      <td>Μεγάλου Αλεξάνδρου 124</td>\n",
       "      <td>104 36</td>\n",
       "      <td>37.982779</td>\n",
       "      <td>23.720052</td>\n",
       "    </tr>\n",
       "    <tr>\n",
       "      <th>2</th>\n",
       "      <td>5d14fbf2dbde110025847b45</td>\n",
       "      <td>Το Λοκάλι</td>\n",
       "      <td>Café</td>\n",
       "      <td>Μεγάλου Αλεξάνδρου 124</td>\n",
       "      <td>105 53</td>\n",
       "      <td>37.978743</td>\n",
       "      <td>23.721690</td>\n",
       "    </tr>\n",
       "    <tr>\n",
       "      <th>3</th>\n",
       "      <td>5d1f0a716438030023f1c006</td>\n",
       "      <td>The Place By Coco-Mat.Bike</td>\n",
       "      <td>Café</td>\n",
       "      <td>Μεγάλου Αλεξάνδρου 124</td>\n",
       "      <td>118 54</td>\n",
       "      <td>37.979279</td>\n",
       "      <td>23.711910</td>\n",
       "    </tr>\n",
       "    <tr>\n",
       "      <th>4</th>\n",
       "      <td>4f96b2b11081ac6f2b207c58</td>\n",
       "      <td>O&amp;B Athens All Day Bar Restaurant</td>\n",
       "      <td>Restaurant</td>\n",
       "      <td>Μεγάλου Αλεξάνδρου 124</td>\n",
       "      <td>105 54</td>\n",
       "      <td>37.977500</td>\n",
       "      <td>23.721939</td>\n",
       "    </tr>\n",
       "    <tr>\n",
       "      <th>5</th>\n",
       "      <td>597a361e86f4cc5e0c9df477</td>\n",
       "      <td>Saorsa</td>\n",
       "      <td>Cocktail</td>\n",
       "      <td>Μεγάλου Αλεξάνδρου 124</td>\n",
       "      <td>104 36</td>\n",
       "      <td>37.982657</td>\n",
       "      <td>23.720263</td>\n",
       "    </tr>\n",
       "    <tr>\n",
       "      <th>6</th>\n",
       "      <td>549c4bb5498e683bd43ea38c</td>\n",
       "      <td>The Underdog</td>\n",
       "      <td>Coffee Shop</td>\n",
       "      <td>Μεγάλου Αλεξάνδρου 124</td>\n",
       "      <td>118 51</td>\n",
       "      <td>37.974889</td>\n",
       "      <td>23.719219</td>\n",
       "    </tr>\n",
       "    <tr>\n",
       "      <th>7</th>\n",
       "      <td>4baeb043f964a520f5ce3be3</td>\n",
       "      <td>Gazi College</td>\n",
       "      <td>Café</td>\n",
       "      <td>Μεγάλου Αλεξάνδρου 124</td>\n",
       "      <td>118 54</td>\n",
       "      <td>37.978694</td>\n",
       "      <td>23.710789</td>\n",
       "    </tr>\n",
       "    <tr>\n",
       "      <th>8</th>\n",
       "      <td>4e91c29630f81ec6fff7c85e</td>\n",
       "      <td>Δυάρι Café</td>\n",
       "      <td>Café</td>\n",
       "      <td>Μεγάλου Αλεξάνδρου 124</td>\n",
       "      <td>104 35</td>\n",
       "      <td>37.981420</td>\n",
       "      <td>23.713956</td>\n",
       "    </tr>\n",
       "    <tr>\n",
       "      <th>9</th>\n",
       "      <td>5a79a94d60d11b0ed798d9c5</td>\n",
       "      <td>Coffee Island</td>\n",
       "      <td>Coffee Shop</td>\n",
       "      <td>Μεγάλου Αλεξάνδρου 124</td>\n",
       "      <td>118 54</td>\n",
       "      <td>37.980569</td>\n",
       "      <td>23.711946</td>\n",
       "    </tr>\n",
       "    <tr>\n",
       "      <th>10</th>\n",
       "      <td>4ed174735c5c9528fa9400d0</td>\n",
       "      <td>Λόλα</td>\n",
       "      <td>Café</td>\n",
       "      <td>Μεγάλου Αλεξάνδρου 124</td>\n",
       "      <td>118 54</td>\n",
       "      <td>37.974174</td>\n",
       "      <td>23.711126</td>\n",
       "    </tr>\n",
       "    <tr>\n",
       "      <th>11</th>\n",
       "      <td>4d8d069f788c54810f9717fd</td>\n",
       "      <td>Μπάμπουρας</td>\n",
       "      <td>Bar</td>\n",
       "      <td>Μεγάλου Αλεξάνδρου 124</td>\n",
       "      <td>118 51</td>\n",
       "      <td>37.973723</td>\n",
       "      <td>23.714539</td>\n",
       "    </tr>\n",
       "    <tr>\n",
       "      <th>12</th>\n",
       "      <td>57bb3480498eb5ac67b7881a</td>\n",
       "      <td>Upupa Epops</td>\n",
       "      <td>Cocktail</td>\n",
       "      <td>Μεγάλου Αλεξάνδρου 124</td>\n",
       "      <td>118 53</td>\n",
       "      <td>37.974199</td>\n",
       "      <td>23.710181</td>\n",
       "    </tr>\n",
       "    <tr>\n",
       "      <th>13</th>\n",
       "      <td>4ceee261ed62721e6bb35dfd</td>\n",
       "      <td>Boo</td>\n",
       "      <td>Café</td>\n",
       "      <td>Μεγάλου Αλεξάνδρου 124</td>\n",
       "      <td>105 54</td>\n",
       "      <td>37.979226</td>\n",
       "      <td>23.722685</td>\n",
       "    </tr>\n",
       "    <tr>\n",
       "      <th>14</th>\n",
       "      <td>53df3977498e478b05bb4452</td>\n",
       "      <td>Couleur Locale</td>\n",
       "      <td>Bar</td>\n",
       "      <td>Μεγάλου Αλεξάνδρου 124</td>\n",
       "      <td>105 55</td>\n",
       "      <td>37.976624</td>\n",
       "      <td>23.724617</td>\n",
       "    </tr>\n",
       "    <tr>\n",
       "      <th>15</th>\n",
       "      <td>530532f7498e40e9d9c590e6</td>\n",
       "      <td>Nancy's Sweet Home (Το Σερμπετόσπιτο της Νάνσυ)</td>\n",
       "      <td>Desserts</td>\n",
       "      <td>Μεγάλου Αλεξάνδρου 124</td>\n",
       "      <td>105 54</td>\n",
       "      <td>37.978369</td>\n",
       "      <td>23.724817</td>\n",
       "    </tr>\n",
       "    <tr>\n",
       "      <th>16</th>\n",
       "      <td>4b06ab81f964a52073ee22e3</td>\n",
       "      <td>The Art Foundation (TAF Athens)</td>\n",
       "      <td>Art Gallery</td>\n",
       "      <td>Μεγάλου Αλεξάνδρου 124</td>\n",
       "      <td>105 55</td>\n",
       "      <td>37.976560</td>\n",
       "      <td>23.724549</td>\n",
       "    </tr>\n",
       "    <tr>\n",
       "      <th>17</th>\n",
       "      <td>5c23a1fc0d8a0f002c95ea5b</td>\n",
       "      <td>King`s Theater</td>\n",
       "      <td>Wine Bar</td>\n",
       "      <td>Μεγάλου Αλεξάνδρου 124</td>\n",
       "      <td>105 54</td>\n",
       "      <td>37.977880</td>\n",
       "      <td>23.724660</td>\n",
       "    </tr>\n",
       "    <tr>\n",
       "      <th>18</th>\n",
       "      <td>55a17707498edc8d69e1defb</td>\n",
       "      <td>Barrett</td>\n",
       "      <td>Café</td>\n",
       "      <td>Μεγάλου Αλεξάνδρου 124</td>\n",
       "      <td>105 54</td>\n",
       "      <td>37.978090</td>\n",
       "      <td>23.725638</td>\n",
       "    </tr>\n",
       "    <tr>\n",
       "      <th>19</th>\n",
       "      <td>4f5ba04ce4b085f52d6c3010</td>\n",
       "      <td>Avli (Αυλή)</td>\n",
       "      <td>Greek</td>\n",
       "      <td>Μεγάλου Αλεξάνδρου 124</td>\n",
       "      <td>105 54</td>\n",
       "      <td>37.979686</td>\n",
       "      <td>23.725815</td>\n",
       "    </tr>\n",
       "    <tr>\n",
       "      <th>20</th>\n",
       "      <td>5167dbe1e4b0d5fdbdc2c9e2</td>\n",
       "      <td>Nanou Donuts House</td>\n",
       "      <td>Donuts</td>\n",
       "      <td>Μεγάλου Αλεξάνδρου 124</td>\n",
       "      <td>104 35</td>\n",
       "      <td>37.982053</td>\n",
       "      <td>23.715201</td>\n",
       "    </tr>\n",
       "    <tr>\n",
       "      <th>21</th>\n",
       "      <td>5230cda311d2ca639372bc1f</td>\n",
       "      <td>The Handlebar</td>\n",
       "      <td>Bar</td>\n",
       "      <td>Μεγάλου Αλεξάνδρου 124</td>\n",
       "      <td>105 54</td>\n",
       "      <td>37.979205</td>\n",
       "      <td>23.726103</td>\n",
       "    </tr>\n",
       "    <tr>\n",
       "      <th>22</th>\n",
       "      <td>4dbb2ace1e72b351ca924947</td>\n",
       "      <td>Σερμπέτια στου Ψυρρή</td>\n",
       "      <td>Desserts</td>\n",
       "      <td>Μεγάλου Αλεξάνδρου 124</td>\n",
       "      <td>105 54</td>\n",
       "      <td>37.978755</td>\n",
       "      <td>23.725116</td>\n",
       "    </tr>\n",
       "    <tr>\n",
       "      <th>23</th>\n",
       "      <td>59a4fff4c0cacb1b13fffc5a</td>\n",
       "      <td>El Greco</td>\n",
       "      <td>Coffee Shop</td>\n",
       "      <td>Μεγάλου Αλεξάνδρου 124</td>\n",
       "      <td>118 55</td>\n",
       "      <td>37.981586</td>\n",
       "      <td>23.709568</td>\n",
       "    </tr>\n",
       "    <tr>\n",
       "      <th>24</th>\n",
       "      <td>566c5aa2498e54e77a3ee0a3</td>\n",
       "      <td>Little Kook</td>\n",
       "      <td>Desserts</td>\n",
       "      <td>Μεγάλου Αλεξάνδρου 124</td>\n",
       "      <td>105 54</td>\n",
       "      <td>37.977643</td>\n",
       "      <td>23.724433</td>\n",
       "    </tr>\n",
       "    <tr>\n",
       "      <th>25</th>\n",
       "      <td>4c5d55207735c9b6afaf8e72</td>\n",
       "      <td>Cafe Avissinia (Καφέ Αβυσσινία)</td>\n",
       "      <td>Café</td>\n",
       "      <td>Μεγάλου Αλεξάνδρου 124</td>\n",
       "      <td>105 55</td>\n",
       "      <td>37.976575</td>\n",
       "      <td>23.723674</td>\n",
       "    </tr>\n",
       "    <tr>\n",
       "      <th>26</th>\n",
       "      <td>5d5640c84bdc1a00088cd627</td>\n",
       "      <td>Dope Roasting Co.</td>\n",
       "      <td>Coffee Shop</td>\n",
       "      <td>Μεγάλου Αλεξάνδρου 124</td>\n",
       "      <td>105 51</td>\n",
       "      <td>37.978302</td>\n",
       "      <td>23.726841</td>\n",
       "    </tr>\n",
       "    <tr>\n",
       "      <th>27</th>\n",
       "      <td>4e3493e5d22d86185a636317</td>\n",
       "      <td>Σπιρτόκουτο</td>\n",
       "      <td>Café</td>\n",
       "      <td>Μεγάλου Αλεξάνδρου 124</td>\n",
       "      <td>118 54</td>\n",
       "      <td>37.973604</td>\n",
       "      <td>23.710787</td>\n",
       "    </tr>\n",
       "    <tr>\n",
       "      <th>28</th>\n",
       "      <td>5ab63a035455b239f95fe370</td>\n",
       "      <td>Καφενείον Ακροπόλεως</td>\n",
       "      <td>Meze Restaurants</td>\n",
       "      <td>Μεγάλου Αλεξάνδρου 124</td>\n",
       "      <td>118 51</td>\n",
       "      <td>37.973563</td>\n",
       "      <td>23.720247</td>\n",
       "    </tr>\n",
       "    <tr>\n",
       "      <th>29</th>\n",
       "      <td>4db3033443a1369cb59895ab</td>\n",
       "      <td>Βρυσάκι Xώρος Τέχνης &amp; Δράσης</td>\n",
       "      <td>Performing Arts</td>\n",
       "      <td>Μεγάλου Αλεξάνδρου 124</td>\n",
       "      <td>105 55</td>\n",
       "      <td>37.974785</td>\n",
       "      <td>23.724527</td>\n",
       "    </tr>\n",
       "    <tr>\n",
       "      <th>30</th>\n",
       "      <td>5d90bd830808fd0008987af2</td>\n",
       "      <td>Ellyz</td>\n",
       "      <td>Café</td>\n",
       "      <td>Μεγάλου Αλεξάνδρου 124</td>\n",
       "      <td>105 55</td>\n",
       "      <td>37.976524</td>\n",
       "      <td>23.723318</td>\n",
       "    </tr>\n",
       "    <tr>\n",
       "      <th>31</th>\n",
       "      <td>5579e0ed498e7fdd38e42db5</td>\n",
       "      <td>Abodé</td>\n",
       "      <td>Café</td>\n",
       "      <td>Μεγάλου Αλεξάνδρου 124</td>\n",
       "      <td>105 53</td>\n",
       "      <td>37.977834</td>\n",
       "      <td>23.721098</td>\n",
       "    </tr>\n",
       "    <tr>\n",
       "      <th>32</th>\n",
       "      <td>4b5a1a0ef964a52048ad28e3</td>\n",
       "      <td>six d.o.g.s</td>\n",
       "      <td>Bar</td>\n",
       "      <td>Μεγάλου Αλεξάνδρου 124</td>\n",
       "      <td>105 51</td>\n",
       "      <td>37.977505</td>\n",
       "      <td>23.726839</td>\n",
       "    </tr>\n",
       "    <tr>\n",
       "      <th>33</th>\n",
       "      <td>52e00bfb11d2e8b7369cdff6</td>\n",
       "      <td>Crème Royale</td>\n",
       "      <td>Pie Shop</td>\n",
       "      <td>Μεγάλου Αλεξάνδρου 124</td>\n",
       "      <td>105 54</td>\n",
       "      <td>37.979119</td>\n",
       "      <td>23.726742</td>\n",
       "    </tr>\n",
       "    <tr>\n",
       "      <th>34</th>\n",
       "      <td>4bec7233976ac928ce04610b</td>\n",
       "      <td>Τρανζίστορ</td>\n",
       "      <td>Bar</td>\n",
       "      <td>Μεγάλου Αλεξάνδρου 124</td>\n",
       "      <td>105 54</td>\n",
       "      <td>37.978169</td>\n",
       "      <td>23.725797</td>\n",
       "    </tr>\n",
       "    <tr>\n",
       "      <th>35</th>\n",
       "      <td>4eedcdb56c25c7f9d26ccc4f</td>\n",
       "      <td>Mokka</td>\n",
       "      <td>Coffee Shop</td>\n",
       "      <td>Μεγάλου Αλεξάνδρου 124</td>\n",
       "      <td>105 53</td>\n",
       "      <td>37.980852</td>\n",
       "      <td>23.727177</td>\n",
       "    </tr>\n",
       "    <tr>\n",
       "      <th>36</th>\n",
       "      <td>4c51d4959d642d7f48bb3fde</td>\n",
       "      <td>Λουξ</td>\n",
       "      <td>Café</td>\n",
       "      <td>Μεγάλου Αλεξάνδρου 124</td>\n",
       "      <td>118 51</td>\n",
       "      <td>37.976936</td>\n",
       "      <td>23.715653</td>\n",
       "    </tr>\n",
       "    <tr>\n",
       "      <th>37</th>\n",
       "      <td>57cd6d7438fa90333f521747</td>\n",
       "      <td>Bread Factory</td>\n",
       "      <td>Bakery</td>\n",
       "      <td>Μεγάλου Αλεξάνδρου 124</td>\n",
       "      <td>104 37</td>\n",
       "      <td>37.985204</td>\n",
       "      <td>23.720932</td>\n",
       "    </tr>\n",
       "    <tr>\n",
       "      <th>38</th>\n",
       "      <td>525c409d11d2a0480fb6cd10</td>\n",
       "      <td>Beaver</td>\n",
       "      <td>Bar</td>\n",
       "      <td>Μεγάλου Αλεξάνδρου 124</td>\n",
       "      <td>118 54</td>\n",
       "      <td>37.975332</td>\n",
       "      <td>23.706764</td>\n",
       "    </tr>\n",
       "    <tr>\n",
       "      <th>39</th>\n",
       "      <td>5144382ee4b03dc12bbde64d</td>\n",
       "      <td>Ciccus</td>\n",
       "      <td>Café</td>\n",
       "      <td>Μεγάλου Αλεξάνδρου 124</td>\n",
       "      <td>105 55</td>\n",
       "      <td>37.975892</td>\n",
       "      <td>23.724223</td>\n",
       "    </tr>\n",
       "    <tr>\n",
       "      <th>40</th>\n",
       "      <td>4d89f84c1508a1432a85191e</td>\n",
       "      <td>Attalos (Άτταλος)</td>\n",
       "      <td>Greek</td>\n",
       "      <td>Μεγάλου Αλεξάνδρου 124</td>\n",
       "      <td>105 55</td>\n",
       "      <td>37.976347</td>\n",
       "      <td>23.722108</td>\n",
       "    </tr>\n",
       "    <tr>\n",
       "      <th>41</th>\n",
       "      <td>53c96253498ed67cda535ada</td>\n",
       "      <td>Παράθυρο</td>\n",
       "      <td>Bar</td>\n",
       "      <td>Μεγάλου Αλεξάνδρου 124</td>\n",
       "      <td>118 51</td>\n",
       "      <td>37.975717</td>\n",
       "      <td>23.713926</td>\n",
       "    </tr>\n",
       "    <tr>\n",
       "      <th>42</th>\n",
       "      <td>4d3dd676557d6dcbc7944844</td>\n",
       "      <td>Το Κουλούρι του Ψυρρή</td>\n",
       "      <td>Bakery</td>\n",
       "      <td>Μεγάλου Αλεξάνδρου 124</td>\n",
       "      <td>105 54</td>\n",
       "      <td>37.977870</td>\n",
       "      <td>23.724585</td>\n",
       "    </tr>\n",
       "    <tr>\n",
       "      <th>43</th>\n",
       "      <td>4adcdadff964a5202b5821e3</td>\n",
       "      <td>Carte Postale</td>\n",
       "      <td>Bar</td>\n",
       "      <td>Μεγάλου Αλεξάνδρου 124</td>\n",
       "      <td>115 25</td>\n",
       "      <td>37.976538</td>\n",
       "      <td>23.721792</td>\n",
       "    </tr>\n",
       "  </tbody>\n",
       "</table>\n",
       "</div>"
      ],
      "text/plain": [
       "                         uid                                             name  \\\n",
       "0   529a0fa811d216d1bea7f4e9                                  КОЯØБA (Korova)   \n",
       "1   52b45b33498ec4eceb367aff                                   Μπλε Παπαγάλος   \n",
       "2   5d14fbf2dbde110025847b45                                        Το Λοκάλι   \n",
       "3   5d1f0a716438030023f1c006                       The Place By Coco-Mat.Bike   \n",
       "4   4f96b2b11081ac6f2b207c58                O&B Athens All Day Bar Restaurant   \n",
       "5   597a361e86f4cc5e0c9df477                                           Saorsa   \n",
       "6   549c4bb5498e683bd43ea38c                                     The Underdog   \n",
       "7   4baeb043f964a520f5ce3be3                                     Gazi College   \n",
       "8   4e91c29630f81ec6fff7c85e                                       Δυάρι Café   \n",
       "9   5a79a94d60d11b0ed798d9c5                                    Coffee Island   \n",
       "10  4ed174735c5c9528fa9400d0                                             Λόλα   \n",
       "11  4d8d069f788c54810f9717fd                                       Μπάμπουρας   \n",
       "12  57bb3480498eb5ac67b7881a                                      Upupa Epops   \n",
       "13  4ceee261ed62721e6bb35dfd                                              Boo   \n",
       "14  53df3977498e478b05bb4452                                   Couleur Locale   \n",
       "15  530532f7498e40e9d9c590e6  Nancy's Sweet Home (Το Σερμπετόσπιτο της Νάνσυ)   \n",
       "16  4b06ab81f964a52073ee22e3                  The Art Foundation (TAF Athens)   \n",
       "17  5c23a1fc0d8a0f002c95ea5b                                   King`s Theater   \n",
       "18  55a17707498edc8d69e1defb                                          Barrett   \n",
       "19  4f5ba04ce4b085f52d6c3010                                      Avli (Αυλή)   \n",
       "20  5167dbe1e4b0d5fdbdc2c9e2                               Nanou Donuts House   \n",
       "21  5230cda311d2ca639372bc1f                                    The Handlebar   \n",
       "22  4dbb2ace1e72b351ca924947                             Σερμπέτια στου Ψυρρή   \n",
       "23  59a4fff4c0cacb1b13fffc5a                                         El Greco   \n",
       "24  566c5aa2498e54e77a3ee0a3                                      Little Kook   \n",
       "25  4c5d55207735c9b6afaf8e72                  Cafe Avissinia (Καφέ Αβυσσινία)   \n",
       "26  5d5640c84bdc1a00088cd627                                Dope Roasting Co.   \n",
       "27  4e3493e5d22d86185a636317                                      Σπιρτόκουτο   \n",
       "28  5ab63a035455b239f95fe370                             Καφενείον Ακροπόλεως   \n",
       "29  4db3033443a1369cb59895ab                    Βρυσάκι Xώρος Τέχνης & Δράσης   \n",
       "30  5d90bd830808fd0008987af2                                            Ellyz   \n",
       "31  5579e0ed498e7fdd38e42db5                                            Abodé   \n",
       "32  4b5a1a0ef964a52048ad28e3                                      six d.o.g.s   \n",
       "33  52e00bfb11d2e8b7369cdff6                                     Crème Royale   \n",
       "34  4bec7233976ac928ce04610b                                       Τρανζίστορ   \n",
       "35  4eedcdb56c25c7f9d26ccc4f                                            Mokka   \n",
       "36  4c51d4959d642d7f48bb3fde                                             Λουξ   \n",
       "37  57cd6d7438fa90333f521747                                    Bread Factory   \n",
       "38  525c409d11d2a0480fb6cd10                                           Beaver   \n",
       "39  5144382ee4b03dc12bbde64d                                           Ciccus   \n",
       "40  4d89f84c1508a1432a85191e                                Attalos (Άτταλος)   \n",
       "41  53c96253498ed67cda535ada                                         Παράθυρο   \n",
       "42  4d3dd676557d6dcbc7944844                            Το Κουλούρι του Ψυρρή   \n",
       "43  4adcdadff964a5202b5821e3                                    Carte Postale   \n",
       "\n",
       "           shortname                 address postalcode        lat        lng  \n",
       "0               Café  Μεγάλου Αλεξάνδρου 124     104 35  37.980839  23.716899  \n",
       "1                Bar  Μεγάλου Αλεξάνδρου 124     104 36  37.982779  23.720052  \n",
       "2               Café  Μεγάλου Αλεξάνδρου 124     105 53  37.978743  23.721690  \n",
       "3               Café  Μεγάλου Αλεξάνδρου 124     118 54  37.979279  23.711910  \n",
       "4         Restaurant  Μεγάλου Αλεξάνδρου 124     105 54  37.977500  23.721939  \n",
       "5           Cocktail  Μεγάλου Αλεξάνδρου 124     104 36  37.982657  23.720263  \n",
       "6        Coffee Shop  Μεγάλου Αλεξάνδρου 124     118 51  37.974889  23.719219  \n",
       "7               Café  Μεγάλου Αλεξάνδρου 124     118 54  37.978694  23.710789  \n",
       "8               Café  Μεγάλου Αλεξάνδρου 124     104 35  37.981420  23.713956  \n",
       "9        Coffee Shop  Μεγάλου Αλεξάνδρου 124     118 54  37.980569  23.711946  \n",
       "10              Café  Μεγάλου Αλεξάνδρου 124     118 54  37.974174  23.711126  \n",
       "11               Bar  Μεγάλου Αλεξάνδρου 124     118 51  37.973723  23.714539  \n",
       "12          Cocktail  Μεγάλου Αλεξάνδρου 124     118 53  37.974199  23.710181  \n",
       "13              Café  Μεγάλου Αλεξάνδρου 124     105 54  37.979226  23.722685  \n",
       "14               Bar  Μεγάλου Αλεξάνδρου 124     105 55  37.976624  23.724617  \n",
       "15          Desserts  Μεγάλου Αλεξάνδρου 124     105 54  37.978369  23.724817  \n",
       "16       Art Gallery  Μεγάλου Αλεξάνδρου 124     105 55  37.976560  23.724549  \n",
       "17          Wine Bar  Μεγάλου Αλεξάνδρου 124     105 54  37.977880  23.724660  \n",
       "18              Café  Μεγάλου Αλεξάνδρου 124     105 54  37.978090  23.725638  \n",
       "19             Greek  Μεγάλου Αλεξάνδρου 124     105 54  37.979686  23.725815  \n",
       "20            Donuts  Μεγάλου Αλεξάνδρου 124     104 35  37.982053  23.715201  \n",
       "21               Bar  Μεγάλου Αλεξάνδρου 124     105 54  37.979205  23.726103  \n",
       "22          Desserts  Μεγάλου Αλεξάνδρου 124     105 54  37.978755  23.725116  \n",
       "23       Coffee Shop  Μεγάλου Αλεξάνδρου 124     118 55  37.981586  23.709568  \n",
       "24          Desserts  Μεγάλου Αλεξάνδρου 124     105 54  37.977643  23.724433  \n",
       "25              Café  Μεγάλου Αλεξάνδρου 124     105 55  37.976575  23.723674  \n",
       "26       Coffee Shop  Μεγάλου Αλεξάνδρου 124     105 51  37.978302  23.726841  \n",
       "27              Café  Μεγάλου Αλεξάνδρου 124     118 54  37.973604  23.710787  \n",
       "28  Meze Restaurants  Μεγάλου Αλεξάνδρου 124     118 51  37.973563  23.720247  \n",
       "29   Performing Arts  Μεγάλου Αλεξάνδρου 124     105 55  37.974785  23.724527  \n",
       "30              Café  Μεγάλου Αλεξάνδρου 124     105 55  37.976524  23.723318  \n",
       "31              Café  Μεγάλου Αλεξάνδρου 124     105 53  37.977834  23.721098  \n",
       "32               Bar  Μεγάλου Αλεξάνδρου 124     105 51  37.977505  23.726839  \n",
       "33          Pie Shop  Μεγάλου Αλεξάνδρου 124     105 54  37.979119  23.726742  \n",
       "34               Bar  Μεγάλου Αλεξάνδρου 124     105 54  37.978169  23.725797  \n",
       "35       Coffee Shop  Μεγάλου Αλεξάνδρου 124     105 53  37.980852  23.727177  \n",
       "36              Café  Μεγάλου Αλεξάνδρου 124     118 51  37.976936  23.715653  \n",
       "37            Bakery  Μεγάλου Αλεξάνδρου 124     104 37  37.985204  23.720932  \n",
       "38               Bar  Μεγάλου Αλεξάνδρου 124     118 54  37.975332  23.706764  \n",
       "39              Café  Μεγάλου Αλεξάνδρου 124     105 55  37.975892  23.724223  \n",
       "40             Greek  Μεγάλου Αλεξάνδρου 124     105 55  37.976347  23.722108  \n",
       "41               Bar  Μεγάλου Αλεξάνδρου 124     118 51  37.975717  23.713926  \n",
       "42            Bakery  Μεγάλου Αλεξάνδρου 124     105 54  37.977870  23.724585  \n",
       "43               Bar  Μεγάλου Αλεξάνδρου 124     115 25  37.976538  23.721792  "
      ]
     },
     "execution_count": 24,
     "metadata": {},
     "output_type": "execute_result"
    }
   ],
   "source": [
    "df_raw = []\n",
    "for item in items:\n",
    "    venue = item[\"venue\"]\n",
    "    categories, uid, name, location = venue[\"categories\"], venue[\"id\"], venue[\"name\"], venue[\"location\"]\n",
    "    assert len(categories) == 1\n",
    "    shortname = categories[0][\"shortName\"]\n",
    "    if not \"postalCode\" in location:\n",
    "        continue\n",
    "    postalcode = location[\"postalCode\"]\n",
    "    lat = location[\"lat\"]\n",
    "    lng = location[\"lng\"]\n",
    "    datarow = (uid, name, shortname, address, postalcode, lat, lng)\n",
    "    df_raw.append(datarow)\n",
    "df = pd.DataFrame(df_raw, columns=[\"uid\", \"name\", \"shortname\", \"address\", \"postalcode\", \"lat\", \"lng\"])\n",
    "print(\"found %i cafes\" % len(df))\n",
    "df"
   ]
  },
  {
   "cell_type": "code",
   "execution_count": 22,
   "metadata": {},
   "outputs": [
    {
     "data": {
      "text/plain": [
       "{'lat': 37.97945, 'lng': 23.71622}"
      ]
     },
     "execution_count": 22,
     "metadata": {},
     "output_type": "execute_result"
    }
   ],
   "source": [
    "athens_center = d[\"geocode\"][\"center\"]\n",
    "athens_center"
   ]
  },
  {
   "cell_type": "markdown",
   "metadata": {},
   "source": [
    "Now we will create a map of Athens with the lat and long values "
   ]
  },
  {
   "cell_type": "code",
   "execution_count": 23,
   "metadata": {},
   "outputs": [
    {
     "name": "stderr",
     "output_type": "stream",
     "text": [
      "C:\\Users\\xarhi\\Anaconda3\\lib\\site-packages\\ipykernel_launcher.py:20: FutureWarning: Method .as_matrix will be removed in a future version. Use .values instead.\n"
     ]
    },
    {
     "data": {
      "text/html": [
       "<div style=\"width:100%;\"><div style=\"position:relative;width:100%;height:0;padding-bottom:60%;\"><iframe src=\"about:blank\" style=\"position:absolute;width:100%;height:100%;left:0;top:0;border:none !important;\" data-html=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 onload=\"this.contentDocument.open();this.contentDocument.write(atob(this.getAttribute('data-html')));this.contentDocument.close();\" allowfullscreen webkitallowfullscreen mozallowfullscreen></iframe></div></div>"
      ],
      "text/plain": [
       "<folium.folium.Map at 0x145628cb780>"
      ]
     },
     "execution_count": 23,
     "metadata": {},
     "output_type": "execute_result"
    }
   ],
   "source": [
    "from folium import plugins\n",
    "\n",
    "# create map of Athens using latitude and longitude values\n",
    "map_athens = folium.Map(location=[athens_center[\"lat\"], athens_center[\"lng\"]], zoom_start=14)\n",
    "\n",
    "def add_markers(df):\n",
    "    for (j, row) in df.iterrows():\n",
    "        label = folium.Popup(row[\"name\"], parse_html=True)\n",
    "        folium.CircleMarker(\n",
    "            [row[\"lat\"], row[\"lng\"]],\n",
    "            radius=5,\n",
    "            popup=label,\n",
    "            color='blue',\n",
    "            fill=True,\n",
    "            fill_color='#3186cc',\n",
    "            fill_opacity=0.7,\n",
    "            parse_html=False).add_to(map_athens)\n",
    "\n",
    "add_markers(df)\n",
    "hm_data = df[[\"lat\", \"lng\"]].as_matrix().tolist()\n",
    "map_athens.add_child(plugins.HeatMap(hm_data))\n",
    "\n",
    "map_athens"
   ]
  },
  {
   "cell_type": "markdown",
   "metadata": {},
   "source": [
    "### Results"
   ]
  },
  {
   "cell_type": "markdown",
   "metadata": {},
   "source": [
    "Based on the above map a good location for a new coffee shop would be Omonia, or \"Ομόνοια\" in greek. We can easily find latitude and longitude for this location from Google Maps."
   ]
  },
  {
   "cell_type": "code",
   "execution_count": 30,
   "metadata": {},
   "outputs": [
    {
     "data": {
      "text/html": [
       "<div style=\"width:100%;\"><div style=\"position:relative;width:100%;height:0;padding-bottom:60%;\"><iframe src=\"about:blank\" style=\"position:absolute;width:100%;height:100%;left:0;top:0;border:none !important;\" data-html=PCFET0NUWVBFIGh0bWw+CjxoZWFkPiAgICAKICAgIDxtZXRhIGh0dHAtZXF1aXY9ImNvbnRlbnQtdHlwZSIgY29udGVudD0idGV4dC9odG1sOyBjaGFyc2V0PVVURi04IiAvPgogICAgPHNjcmlwdD5MX1BSRUZFUl9DQU5WQVMgPSBmYWxzZTsgTF9OT19UT1VDSCA9IGZhbHNlOyBMX0RJU0FCTEVfM0QgPSBmYWxzZTs8L3NjcmlwdD4KICAgIDxzY3JpcHQgc3JjPSJodHRwczovL2Nkbi5qc2RlbGl2ci5uZXQvbnBtL2xlYWZsZXRAMS4yLjAvZGlzdC9sZWFmbGV0LmpzIj48L3NjcmlwdD4KICAgIDxzY3JpcHQgc3JjPSJodHRwczovL2FqYXguZ29vZ2xlYXBpcy5jb20vYWpheC9saWJzL2pxdWVyeS8xLjExLjEvanF1ZXJ5Lm1pbi5qcyI+PC9zY3JpcHQ+CiAgICA8c2NyaXB0IHNyYz0iaHR0cHM6Ly9tYXhjZG4uYm9vdHN0cmFwY2RuLmNvbS9ib290c3RyYXAvMy4yLjAvanMvYm9vdHN0cmFwLm1pbi5qcyI+PC9zY3JpcHQ+CiAgICA8c2NyaXB0IHNyYz0iaHR0cHM6Ly9jZG5qcy5jbG91ZGZsYXJlLmNvbS9hamF4L2xpYnMvTGVhZmxldC5hd2Vzb21lLW1hcmtlcnMvMi4wLjIvbGVhZmxldC5hd2Vzb21lLW1hcmtlcnMuanMiPjwvc2NyaXB0PgogICAgPGxpbmsgcmVsPSJzdHlsZXNoZWV0IiBocmVmPSJodHRwczovL2Nkbi5qc2RlbGl2ci5uZXQvbnBtL2xlYWZsZXRAMS4yLjAvZGlzdC9sZWFmbGV0LmNzcyIvPgogICAgPGxpbmsgcmVsPSJzdHlsZXNoZWV0IiBocmVmPSJodHRwczovL21heGNkbi5ib290c3RyYXBjZG4uY29tL2Jvb3RzdHJhcC8zLjIuMC9jc3MvYm9vdHN0cmFwLm1pbi5jc3MiLz4KICAgIDxsaW5rIHJlbD0ic3R5bGVzaGVldCIgaHJlZj0iaHR0cHM6Ly9tYXhjZG4uYm9vdHN0cmFwY2RuLmNvbS9ib290c3RyYXAvMy4yLjAvY3NzL2Jvb3RzdHJhcC10aGVtZS5taW4uY3NzIi8+CiAgICA8bGluayByZWw9InN0eWxlc2hlZXQiIGhyZWY9Imh0dHBzOi8vbWF4Y2RuLmJvb3RzdHJhcGNkbi5jb20vZm9udC1hd2Vzb21lLzQuNi4zL2Nzcy9mb250LWF3ZXNvbWUubWluLmNzcyIvPgogICAgPGxpbmsgcmVsPSJzdHlsZXNoZWV0IiBocmVmPSJodHRwczovL2NkbmpzLmNsb3VkZmxhcmUuY29tL2FqYXgvbGlicy9MZWFmbGV0LmF3ZXNvbWUtbWFya2Vycy8yLjAuMi9sZWFmbGV0LmF3ZXNvbWUtbWFya2Vycy5jc3MiLz4KICAgIDxsaW5rIHJlbD0ic3R5bGVzaGVldCIgaHJlZj0iaHR0cHM6Ly9yYXdnaXQuY29tL3B5dGhvbi12aXN1YWxpemF0aW9uL2ZvbGl1bS9tYXN0ZXIvZm9saXVtL3RlbXBsYXRlcy9sZWFmbGV0LmF3ZXNvbWUucm90YXRlLmNzcyIvPgogICAgPHN0eWxlPmh0bWwsIGJvZHkge3dpZHRoOiAxMDAlO2hlaWdodDogMTAwJTttYXJnaW46IDA7cGFkZGluZzogMDt9PC9zdHlsZT4KICAgIDxzdHlsZT4jbWFwIHtwb3NpdGlvbjphYnNvbHV0ZTt0b3A6MDtib3R0b206MDtyaWdodDowO2xlZnQ6MDt9PC9zdHlsZT4KICAgIAogICAgICAgICAgICA8c3R5bGU+ICNtYXBfNDhkYmQ4ZDQ2ODAyNDNkYWI1MDlmMDQxNWFhMTZkMDAgewogICAgICAgICAgICAgICAgcG9zaXRpb24gOiByZWxhdGl2ZTsKICAgICAgICAgICAgICAgIHdpZHRoIDogMTAwLjAlOwogICAgICAgICAgICAgICAgaGVpZ2h0OiAxMDAuMCU7CiAgICAgICAgICAgICAgICBsZWZ0OiAwLjAlOwogICAgICAgICAgICAgICAgdG9wOiAwLjAlOwogICAgICAgICAgICAgICAgfQogICAgICAgICAgICA8L3N0eWxlPgogICAgICAgIAo8L2hlYWQ+Cjxib2R5PiAgICAKICAgIAogICAgICAgICAgICA8ZGl2IGNsYXNzPSJmb2xpdW0tbWFwIiBpZD0ibWFwXzQ4ZGJkOGQ0NjgwMjQzZGFiNTA5ZjA0MTVhYTE2ZDAwIiA+PC9kaXY+CiAgICAgICAgCjwvYm9keT4KPHNjcmlwdD4gICAgCiAgICAKCiAgICAgICAgICAgIAogICAgICAgICAgICAgICAgdmFyIGJvdW5kcyA9IG51bGw7CiAgICAgICAgICAgIAoKICAgICAgICAgICAgdmFyIG1hcF80OGRiZDhkNDY4MDI0M2RhYjUwOWYwNDE1YWExNmQwMCA9IEwubWFwKAogICAgICAgICAgICAgICAgICAgICAgICAgICAgICAgICAgJ21hcF80OGRiZDhkNDY4MDI0M2RhYjUwOWYwNDE1YWExNmQwMCcsCiAgICAgICAgICAgICAgICAgICAgICAgICAgICAgICAgICB7Y2VudGVyOiBbMzcuOTg2MTMzLDIzLjcyODI2N10sCiAgICAgICAgICAgICAgICAgICAgICAgICAgICAgICAgICB6b29tOiAxNywKICAgICAgICAgICAgICAgICAgICAgICAgICAgICAgICAgIG1heEJvdW5kczogYm91bmRzLAogICAgICAgICAgICAgICAgICAgICAgICAgICAgICAgICAgbGF5ZXJzOiBbXSwKICAgICAgICAgICAgICAgICAgICAgICAgICAgICAgICAgIHdvcmxkQ29weUp1bXA6IGZhbHNlLAogICAgICAgICAgICAgICAgICAgICAgICAgICAgICAgICAgY3JzOiBMLkNSUy5FUFNHMzg1NwogICAgICAgICAgICAgICAgICAgICAgICAgICAgICAgICB9KTsKICAgICAgICAgICAgCiAgICAgICAgCiAgICAKICAgICAgICAgICAgdmFyIHRpbGVfbGF5ZXJfZmIwNjEwZjEwYjJiNDAwOWIxY2Q3MDRjNTAzNTZiNTcgPSBMLnRpbGVMYXllcigKICAgICAgICAgICAgICAgICdodHRwczovL3tzfS50aWxlLm9wZW5zdHJlZXRtYXAub3JnL3t6fS97eH0ve3l9LnBuZycsCiAgICAgICAgICAgICAgICB7CiAgImF0dHJpYnV0aW9uIjogbnVsbCwKICAiZGV0ZWN0UmV0aW5hIjogZmFsc2UsCiAgIm1heFpvb20iOiAxOCwKICAibWluWm9vbSI6IDEsCiAgIm5vV3JhcCI6IGZhbHNlLAogICJzdWJkb21haW5zIjogImFiYyIKfQogICAgICAgICAgICAgICAgKS5hZGRUbyhtYXBfNDhkYmQ4ZDQ2ODAyNDNkYWI1MDlmMDQxNWFhMTZkMDApOwogICAgICAgIAogICAgCiAgICAgICAgICAgIHZhciBjaXJjbGVfbWFya2VyX2I2YjFhMDg0ZDJhOTRiODZiOTJiYjcyNTc5ZTM3MDI2ID0gTC5jaXJjbGVNYXJrZXIoCiAgICAgICAgICAgICAgICBbMzcuOTgwODM4NTAzNDgyNDgsMjMuNzE2ODk4NzQ2MjkyODAyXSwKICAgICAgICAgICAgICAgIHsKICAiYnViYmxpbmdNb3VzZUV2ZW50cyI6IHRydWUsCiAgImNvbG9yIjogImJsdWUiLAogICJkYXNoQXJyYXkiOiBudWxsLAogICJkYXNoT2Zmc2V0IjogbnVsbCwKICAiZmlsbCI6IHRydWUsCiAgImZpbGxDb2xvciI6ICIjMzE4NmNjIiwKICAiZmlsbE9wYWNpdHkiOiAwLjcsCiAgImZpbGxSdWxlIjogImV2ZW5vZGQiLAogICJsaW5lQ2FwIjogInJvdW5kIiwKICAibGluZUpvaW4iOiAicm91bmQiLAogICJvcGFjaXR5IjogMS4wLAogICJyYWRpdXMiOiA1LAogICJzdHJva2UiOiB0cnVlLAogICJ3ZWlnaHQiOiAzCn0KICAgICAgICAgICAgICAgICkuYWRkVG8obWFwXzQ4ZGJkOGQ0NjgwMjQzZGFiNTA5ZjA0MTVhYTE2ZDAwKTsKICAgICAgICAgICAgCiAgICAKICAgICAgICAgICAgdmFyIHBvcHVwX2RlZTYxMzA5NjIwYjQwOThiZGE0NzQwMDE2ZDFhYzFmID0gTC5wb3B1cCh7bWF4V2lkdGg6ICczMDAnfSk7CgogICAgICAgICAgICAKICAgICAgICAgICAgICAgIHZhciBodG1sXzIwZTc3OGY1OWYxNzQ3YWI4M2M1YzBhODJhZDg4Zjc5ID0gJCgnPGRpdiBpZD0iaHRtbF8yMGU3NzhmNTlmMTc0N2FiODNjNWMwYTgyYWQ4OGY3OSIgc3R5bGU9IndpZHRoOiAxMDAuMCU7IGhlaWdodDogMTAwLjAlOyI+0JrQntCvw5jQkUEgKEtvcm92YSk8L2Rpdj4nKVswXTsKICAgICAgICAgICAgICAgIHBvcHVwX2RlZTYxMzA5NjIwYjQwOThiZGE0NzQwMDE2ZDFhYzFmLnNldENvbnRlbnQoaHRtbF8yMGU3NzhmNTlmMTc0N2FiODNjNWMwYTgyYWQ4OGY3OSk7CiAgICAgICAgICAgIAoKICAgICAgICAgICAgY2lyY2xlX21hcmtlcl9iNmIxYTA4NGQyYTk0Yjg2YjkyYmI3MjU3OWUzNzAyNi5iaW5kUG9wdXAocG9wdXBfZGVlNjEzMDk2MjBiNDA5OGJkYTQ3NDAwMTZkMWFjMWYpOwoKICAgICAgICAgICAgCiAgICAgICAgCiAgICAKICAgICAgICAgICAgdmFyIGNpcmNsZV9tYXJrZXJfOTBjMDI3YjdhNmNmNDU0NGE0YjVmYWJlYzY1MGE1ZWMgPSBMLmNpcmNsZU1hcmtlcigKICAgICAgICAgICAgICAgIFszNy45ODI3Nzg5MTcwNTA0MSwyMy43MjAwNTI0NzU5MjYwMzJdLAogICAgICAgICAgICAgICAgewogICJidWJibGluZ01vdXNlRXZlbnRzIjogdHJ1ZSwKICAiY29sb3IiOiAiYmx1ZSIsCiAgImRhc2hBcnJheSI6IG51bGwsCiAgImRhc2hPZmZzZXQiOiBudWxsLAogICJmaWxsIjogdHJ1ZSwKICAiZmlsbENvbG9yIjogIiMzMTg2Y2MiLAogICJmaWxsT3BhY2l0eSI6IDAuNywKICAiZmlsbFJ1bGUiOiAiZXZlbm9kZCIsCiAgImxpbmVDYXAiOiAicm91bmQiLAogICJsaW5lSm9pbiI6ICJyb3VuZCIsCiAgIm9wYWNpdHkiOiAxLjAsCiAgInJhZGl1cyI6IDUsCiAgInN0cm9rZSI6IHRydWUsCiAgIndlaWdodCI6IDMKfQogICAgICAgICAgICAgICAgKS5hZGRUbyhtYXBfNDhkYmQ4ZDQ2ODAyNDNkYWI1MDlmMDQxNWFhMTZkMDApOwogICAgICAgICAgICAKICAgIAogICAgICAgICAgICB2YXIgcG9wdXBfZTJmYTUzMTM0Mzk5NDJkMTkwZTQ2MjA4MjA0MzIwY2QgPSBMLnBvcHVwKHttYXhXaWR0aDogJzMwMCd9KTsKCiAgICAgICAgICAgIAogICAgICAgICAgICAgICAgdmFyIGh0bWxfMTJkYjRjNTgyMzgxNDg5ZmJmY2M2YTI1NjI0ZDUzNDUgPSAkKCc8ZGl2IGlkPSJodG1sXzEyZGI0YzU4MjM4MTQ4OWZiZmNjNmEyNTYyNGQ1MzQ1IiBzdHlsZT0id2lkdGg6IDEwMC4wJTsgaGVpZ2h0OiAxMDAuMCU7Ij7OnM+AzrvOtSDOoM6xz4DOsc6zzqzOu86/z4I8L2Rpdj4nKVswXTsKICAgICAgICAgICAgICAgIHBvcHVwX2UyZmE1MzEzNDM5OTQyZDE5MGU0NjIwODIwNDMyMGNkLnNldENvbnRlbnQoaHRtbF8xMmRiNGM1ODIzODE0ODlmYmZjYzZhMjU2MjRkNTM0NSk7CiAgICAgICAgICAgIAoKICAgICAgICAgICAgY2lyY2xlX21hcmtlcl85MGMwMjdiN2E2Y2Y0NTQ0YTRiNWZhYmVjNjUwYTVlYy5iaW5kUG9wdXAocG9wdXBfZTJmYTUzMTM0Mzk5NDJkMTkwZTQ2MjA4MjA0MzIwY2QpOwoKICAgICAgICAgICAgCiAgICAgICAgCiAgICAKICAgICAgICAgICAgdmFyIGNpcmNsZV9tYXJrZXJfZGY4MGZjN2Y0OTc0NDMzZGJlOGMwMjdkZWYyNDY4YjcgPSBMLmNpcmNsZU1hcmtlcigKICAgICAgICAgICAgICAgIFszNy45Nzg3NDMsMjMuNzIxNjldLAogICAgICAgICAgICAgICAgewogICJidWJibGluZ01vdXNlRXZlbnRzIjogdHJ1ZSwKICAiY29sb3IiOiAiYmx1ZSIsCiAgImRhc2hBcnJheSI6IG51bGwsCiAgImRhc2hPZmZzZXQiOiBudWxsLAogICJmaWxsIjogdHJ1ZSwKICAiZmlsbENvbG9yIjogIiMzMTg2Y2MiLAogICJmaWxsT3BhY2l0eSI6IDAuNywKICAiZmlsbFJ1bGUiOiAiZXZlbm9kZCIsCiAgImxpbmVDYXAiOiAicm91bmQiLAogICJsaW5lSm9pbiI6ICJyb3VuZCIsCiAgIm9wYWNpdHkiOiAxLjAsCiAgInJhZGl1cyI6IDUsCiAgInN0cm9rZSI6IHRydWUsCiAgIndlaWdodCI6IDMKfQogICAgICAgICAgICAgICAgKS5hZGRUbyhtYXBfNDhkYmQ4ZDQ2ODAyNDNkYWI1MDlmMDQxNWFhMTZkMDApOwogICAgICAgICAgICAKICAgIAogICAgICAgICAgICB2YXIgcG9wdXBfMTgxZmNkNWQ3MjdmNGY1ZjhkZjc2M2FiYjBlNTNlMjIgPSBMLnBvcHVwKHttYXhXaWR0aDogJzMwMCd9KTsKCiAgICAgICAgICAgIAogICAgICAgICAgICAgICAgdmFyIGh0bWxfMDAwNmI5YTg4OTAzNGY3Mzg0NDNkYmM3MTg1MDQxYWEgPSAkKCc8ZGl2IGlkPSJodG1sXzAwMDZiOWE4ODkwMzRmNzM4NDQzZGJjNzE4NTA0MWFhIiBzdHlsZT0id2lkdGg6IDEwMC4wJTsgaGVpZ2h0OiAxMDAuMCU7Ij7OpM6/IM6bzr/Ous6szrvOuTwvZGl2PicpWzBdOwogICAgICAgICAgICAgICAgcG9wdXBfMTgxZmNkNWQ3MjdmNGY1ZjhkZjc2M2FiYjBlNTNlMjIuc2V0Q29udGVudChodG1sXzAwMDZiOWE4ODkwMzRmNzM4NDQzZGJjNzE4NTA0MWFhKTsKICAgICAgICAgICAgCgogICAgICAgICAgICBjaXJjbGVfbWFya2VyX2RmODBmYzdmNDk3NDQzM2RiZThjMDI3ZGVmMjQ2OGI3LmJpbmRQb3B1cChwb3B1cF8xODFmY2Q1ZDcyN2Y0ZjVmOGRmNzYzYWJiMGU1M2UyMik7CgogICAgICAgICAgICAKICAgICAgICAKICAgIAogICAgICAgICAgICB2YXIgY2lyY2xlX21hcmtlcl8wZjk1MTQ5ZGExMTY0MDFlYmVkZjc3YjQ3ODZjMGJjOSA9IEwuY2lyY2xlTWFya2VyKAogICAgICAgICAgICAgICAgWzM3Ljk3OTI3OSwyMy43MTE5MV0sCiAgICAgICAgICAgICAgICB7CiAgImJ1YmJsaW5nTW91c2VFdmVudHMiOiB0cnVlLAogICJjb2xvciI6ICJibHVlIiwKICAiZGFzaEFycmF5IjogbnVsbCwKICAiZGFzaE9mZnNldCI6IG51bGwsCiAgImZpbGwiOiB0cnVlLAogICJmaWxsQ29sb3IiOiAiIzMxODZjYyIsCiAgImZpbGxPcGFjaXR5IjogMC43LAogICJmaWxsUnVsZSI6ICJldmVub2RkIiwKICAibGluZUNhcCI6ICJyb3VuZCIsCiAgImxpbmVKb2luIjogInJvdW5kIiwKICAib3BhY2l0eSI6IDEuMCwKICAicmFkaXVzIjogNSwKICAic3Ryb2tlIjogdHJ1ZSwKICAid2VpZ2h0IjogMwp9CiAgICAgICAgICAgICAgICApLmFkZFRvKG1hcF80OGRiZDhkNDY4MDI0M2RhYjUwOWYwNDE1YWExNmQwMCk7CiAgICAgICAgICAgIAogICAgCiAgICAgICAgICAgIHZhciBwb3B1cF9kNjljMjU4MjZjMjM0MjQwODU3NGQ1NTViMmEwNGE0NyA9IEwucG9wdXAoe21heFdpZHRoOiAnMzAwJ30pOwoKICAgICAgICAgICAgCiAgICAgICAgICAgICAgICB2YXIgaHRtbF8zZmI1M2U2MWFkNjA0NmNhODY2MGMwOTFlZTBkMTNjOCA9ICQoJzxkaXYgaWQ9Imh0bWxfM2ZiNTNlNjFhZDYwNDZjYTg2NjBjMDkxZWUwZDEzYzgiIHN0eWxlPSJ3aWR0aDogMTAwLjAlOyBoZWlnaHQ6IDEwMC4wJTsiPlRoZSBQbGFjZSBCeSBDb2NvLU1hdC5CaWtlPC9kaXY+JylbMF07CiAgICAgICAgICAgICAgICBwb3B1cF9kNjljMjU4MjZjMjM0MjQwODU3NGQ1NTViMmEwNGE0Ny5zZXRDb250ZW50KGh0bWxfM2ZiNTNlNjFhZDYwNDZjYTg2NjBjMDkxZWUwZDEzYzgpOwogICAgICAgICAgICAKCiAgICAgICAgICAgIGNpcmNsZV9tYXJrZXJfMGY5NTE0OWRhMTE2NDAxZWJlZGY3N2I0Nzg2YzBiYzkuYmluZFBvcHVwKHBvcHVwX2Q2OWMyNTgyNmMyMzQyNDA4NTc0ZDU1NWIyYTA0YTQ3KTsKCiAgICAgICAgICAgIAogICAgICAgIAogICAgCiAgICAgICAgICAgIHZhciBjaXJjbGVfbWFya2VyX2YzYzMwYWI3YjRiZjRlNjBhNzIyNDMyNWQ2OGMwMDE1ID0gTC5jaXJjbGVNYXJrZXIoCiAgICAgICAgICAgICAgICBbMzcuOTc3NTAwMzg0ODIyNDgsMjMuNzIxOTM5MzI1MzMyNjRdLAogICAgICAgICAgICAgICAgewogICJidWJibGluZ01vdXNlRXZlbnRzIjogdHJ1ZSwKICAiY29sb3IiOiAiYmx1ZSIsCiAgImRhc2hBcnJheSI6IG51bGwsCiAgImRhc2hPZmZzZXQiOiBudWxsLAogICJmaWxsIjogdHJ1ZSwKICAiZmlsbENvbG9yIjogIiMzMTg2Y2MiLAogICJmaWxsT3BhY2l0eSI6IDAuNywKICAiZmlsbFJ1bGUiOiAiZXZlbm9kZCIsCiAgImxpbmVDYXAiOiAicm91bmQiLAogICJsaW5lSm9pbiI6ICJyb3VuZCIsCiAgIm9wYWNpdHkiOiAxLjAsCiAgInJhZGl1cyI6IDUsCiAgInN0cm9rZSI6IHRydWUsCiAgIndlaWdodCI6IDMKfQogICAgICAgICAgICAgICAgKS5hZGRUbyhtYXBfNDhkYmQ4ZDQ2ODAyNDNkYWI1MDlmMDQxNWFhMTZkMDApOwogICAgICAgICAgICAKICAgIAogICAgICAgICAgICB2YXIgcG9wdXBfOTI1NTdmYzE2NmI0NGU2Njk1ODJiODA1ZjkyNmQyNWIgPSBMLnBvcHVwKHttYXhXaWR0aDogJzMwMCd9KTsKCiAgICAgICAgICAgIAogICAgICAgICAgICAgICAgdmFyIGh0bWxfMWJmNDk4NTY4ZmRlNDY2ZGEyMDRkMGRlYzNmMWEwNmEgPSAkKCc8ZGl2IGlkPSJodG1sXzFiZjQ5ODU2OGZkZTQ2NmRhMjA0ZDBkZWMzZjFhMDZhIiBzdHlsZT0id2lkdGg6IDEwMC4wJTsgaGVpZ2h0OiAxMDAuMCU7Ij5PJmFtcDtCIEF0aGVucyBBbGwgRGF5IEJhciBSZXN0YXVyYW50PC9kaXY+JylbMF07CiAgICAgICAgICAgICAgICBwb3B1cF85MjU1N2ZjMTY2YjQ0ZTY2OTU4MmI4MDVmOTI2ZDI1Yi5zZXRDb250ZW50KGh0bWxfMWJmNDk4NTY4ZmRlNDY2ZGEyMDRkMGRlYzNmMWEwNmEpOwogICAgICAgICAgICAKCiAgICAgICAgICAgIGNpcmNsZV9tYXJrZXJfZjNjMzBhYjdiNGJmNGU2MGE3MjI0MzI1ZDY4YzAwMTUuYmluZFBvcHVwKHBvcHVwXzkyNTU3ZmMxNjZiNDRlNjY5NTgyYjgwNWY5MjZkMjViKTsKCiAgICAgICAgICAgIAogICAgICAgIAogICAgCiAgICAgICAgICAgIHZhciBjaXJjbGVfbWFya2VyX2RhNGI3ZmJiM2MwOTRjM2U4OWVlZDVmOTNjNmU5NTZhID0gTC5jaXJjbGVNYXJrZXIoCiAgICAgICAgICAgICAgICBbMzcuOTgyNjU3MzUyMzI2NjgsMjMuNzIwMjYyNjAwMDIzMjhdLAogICAgICAgICAgICAgICAgewogICJidWJibGluZ01vdXNlRXZlbnRzIjogdHJ1ZSwKICAiY29sb3IiOiAiYmx1ZSIsCiAgImRhc2hBcnJheSI6IG51bGwsCiAgImRhc2hPZmZzZXQiOiBudWxsLAogICJmaWxsIjogdHJ1ZSwKICAiZmlsbENvbG9yIjogIiMzMTg2Y2MiLAogICJmaWxsT3BhY2l0eSI6IDAuNywKICAiZmlsbFJ1bGUiOiAiZXZlbm9kZCIsCiAgImxpbmVDYXAiOiAicm91bmQiLAogICJsaW5lSm9pbiI6ICJyb3VuZCIsCiAgIm9wYWNpdHkiOiAxLjAsCiAgInJhZGl1cyI6IDUsCiAgInN0cm9rZSI6IHRydWUsCiAgIndlaWdodCI6IDMKfQogICAgICAgICAgICAgICAgKS5hZGRUbyhtYXBfNDhkYmQ4ZDQ2ODAyNDNkYWI1MDlmMDQxNWFhMTZkMDApOwogICAgICAgICAgICAKICAgIAogICAgICAgICAgICB2YXIgcG9wdXBfYTJhZTZkMzk3MTU0NDE1OTgxMGMwNGRjYTRhNjM5ZGMgPSBMLnBvcHVwKHttYXhXaWR0aDogJzMwMCd9KTsKCiAgICAgICAgICAgIAogICAgICAgICAgICAgICAgdmFyIGh0bWxfYTMzYzE0MWVhOTc5NGU5Mjg0YjAwMTNiMTFmYTdmNWIgPSAkKCc8ZGl2IGlkPSJodG1sX2EzM2MxNDFlYTk3OTRlOTI4NGIwMDEzYjExZmE3ZjViIiBzdHlsZT0id2lkdGg6IDEwMC4wJTsgaGVpZ2h0OiAxMDAuMCU7Ij5TYW9yc2E8L2Rpdj4nKVswXTsKICAgICAgICAgICAgICAgIHBvcHVwX2EyYWU2ZDM5NzE1NDQxNTk4MTBjMDRkY2E0YTYzOWRjLnNldENvbnRlbnQoaHRtbF9hMzNjMTQxZWE5Nzk0ZTkyODRiMDAxM2IxMWZhN2Y1Yik7CiAgICAgICAgICAgIAoKICAgICAgICAgICAgY2lyY2xlX21hcmtlcl9kYTRiN2ZiYjNjMDk0YzNlODllZWQ1ZjkzYzZlOTU2YS5iaW5kUG9wdXAocG9wdXBfYTJhZTZkMzk3MTU0NDE1OTgxMGMwNGRjYTRhNjM5ZGMpOwoKICAgICAgICAgICAgCiAgICAgICAgCiAgICAKICAgICAgICAgICAgdmFyIGNpcmNsZV9tYXJrZXJfZTcxNmQxOTEyY2YwNDVkMTk5YTIyYWVhZjBiMzFiYzEgPSBMLmNpcmNsZU1hcmtlcigKICAgICAgICAgICAgICAgIFszNy45NzQ4ODksMjMuNzE5MjE5XSwKICAgICAgICAgICAgICAgIHsKICAiYnViYmxpbmdNb3VzZUV2ZW50cyI6IHRydWUsCiAgImNvbG9yIjogImJsdWUiLAogICJkYXNoQXJyYXkiOiBudWxsLAogICJkYXNoT2Zmc2V0IjogbnVsbCwKICAiZmlsbCI6IHRydWUsCiAgImZpbGxDb2xvciI6ICIjMzE4NmNjIiwKICAiZmlsbE9wYWNpdHkiOiAwLjcsCiAgImZpbGxSdWxlIjogImV2ZW5vZGQiLAogICJsaW5lQ2FwIjogInJvdW5kIiwKICAibGluZUpvaW4iOiAicm91bmQiLAogICJvcGFjaXR5IjogMS4wLAogICJyYWRpdXMiOiA1LAogICJzdHJva2UiOiB0cnVlLAogICJ3ZWlnaHQiOiAzCn0KICAgICAgICAgICAgICAgICkuYWRkVG8obWFwXzQ4ZGJkOGQ0NjgwMjQzZGFiNTA5ZjA0MTVhYTE2ZDAwKTsKICAgICAgICAgICAgCiAgICAKICAgICAgICAgICAgdmFyIHBvcHVwX2NhODZkMjc5Yjc5YzRkMmFiMzk2YzI4MGFiYTkwZGRiID0gTC5wb3B1cCh7bWF4V2lkdGg6ICczMDAnfSk7CgogICAgICAgICAgICAKICAgICAgICAgICAgICAgIHZhciBodG1sXzE5N2U0NGQyYTMwZjQ0MGU5OWFiOWM3YzQxZjgzMzU4ID0gJCgnPGRpdiBpZD0iaHRtbF8xOTdlNDRkMmEzMGY0NDBlOTlhYjljN2M0MWY4MzM1OCIgc3R5bGU9IndpZHRoOiAxMDAuMCU7IGhlaWdodDogMTAwLjAlOyI+VGhlIFVuZGVyZG9nPC9kaXY+JylbMF07CiAgICAgICAgICAgICAgICBwb3B1cF9jYTg2ZDI3OWI3OWM0ZDJhYjM5NmMyODBhYmE5MGRkYi5zZXRDb250ZW50KGh0bWxfMTk3ZTQ0ZDJhMzBmNDQwZTk5YWI5YzdjNDFmODMzNTgpOwogICAgICAgICAgICAKCiAgICAgICAgICAgIGNpcmNsZV9tYXJrZXJfZTcxNmQxOTEyY2YwNDVkMTk5YTIyYWVhZjBiMzFiYzEuYmluZFBvcHVwKHBvcHVwX2NhODZkMjc5Yjc5YzRkMmFiMzk2YzI4MGFiYTkwZGRiKTsKCiAgICAgICAgICAgIAogICAgICAgIAogICAgCiAgICAgICAgICAgIHZhciBjaXJjbGVfbWFya2VyX2ExZWRhOTU3NWE5MDRkNzg5MTk3ZTE5MDAzOTUwMDhmID0gTC5jaXJjbGVNYXJrZXIoCiAgICAgICAgICAgICAgICBbMzcuOTc4Njk0Mzc2NTcyNDA2LDIzLjcxMDc4ODk3MDIwODkyXSwKICAgICAgICAgICAgICAgIHsKICAiYnViYmxpbmdNb3VzZUV2ZW50cyI6IHRydWUsCiAgImNvbG9yIjogImJsdWUiLAogICJkYXNoQXJyYXkiOiBudWxsLAogICJkYXNoT2Zmc2V0IjogbnVsbCwKICAiZmlsbCI6IHRydWUsCiAgImZpbGxDb2xvciI6ICIjMzE4NmNjIiwKICAiZmlsbE9wYWNpdHkiOiAwLjcsCiAgImZpbGxSdWxlIjogImV2ZW5vZGQiLAogICJsaW5lQ2FwIjogInJvdW5kIiwKICAibGluZUpvaW4iOiAicm91bmQiLAogICJvcGFjaXR5IjogMS4wLAogICJyYWRpdXMiOiA1LAogICJzdHJva2UiOiB0cnVlLAogICJ3ZWlnaHQiOiAzCn0KICAgICAgICAgICAgICAgICkuYWRkVG8obWFwXzQ4ZGJkOGQ0NjgwMjQzZGFiNTA5ZjA0MTVhYTE2ZDAwKTsKICAgICAgICAgICAgCiAgICAKICAgICAgICAgICAgdmFyIHBvcHVwX2YyMWNmM2FlYmNkNjQwY2JhNGFjOTdhYjQ3NGVjOTBlID0gTC5wb3B1cCh7bWF4V2lkdGg6ICczMDAnfSk7CgogICAgICAgICAgICAKICAgICAgICAgICAgICAgIHZhciBodG1sX2Q2MGZiNmIyODJiYzQxOGM4ZDFkY2UzOGFiNmIwODFlID0gJCgnPGRpdiBpZD0iaHRtbF9kNjBmYjZiMjgyYmM0MThjOGQxZGNlMzhhYjZiMDgxZSIgc3R5bGU9IndpZHRoOiAxMDAuMCU7IGhlaWdodDogMTAwLjAlOyI+R2F6aSBDb2xsZWdlPC9kaXY+JylbMF07CiAgICAgICAgICAgICAgICBwb3B1cF9mMjFjZjNhZWJjZDY0MGNiYTRhYzk3YWI0NzRlYzkwZS5zZXRDb250ZW50KGh0bWxfZDYwZmI2YjI4MmJjNDE4YzhkMWRjZTM4YWI2YjA4MWUpOwogICAgICAgICAgICAKCiAgICAgICAgICAgIGNpcmNsZV9tYXJrZXJfYTFlZGE5NTc1YTkwNGQ3ODkxOTdlMTkwMDM5NTAwOGYuYmluZFBvcHVwKHBvcHVwX2YyMWNmM2FlYmNkNjQwY2JhNGFjOTdhYjQ3NGVjOTBlKTsKCiAgICAgICAgICAgIAogICAgICAgIAogICAgCiAgICAgICAgICAgIHZhciBjaXJjbGVfbWFya2VyXzI4MWQ2OGQ4ZTVkMDQwZGZiOGQ0M2RhMjFkYmMzNmQ1ID0gTC5jaXJjbGVNYXJrZXIoCiAgICAgICAgICAgICAgICBbMzcuOTgxNDE5OTQ3NDMyMTksMjMuNzEzOTU1OTk1ODMwOTc1XSwKICAgICAgICAgICAgICAgIHsKICAiYnViYmxpbmdNb3VzZUV2ZW50cyI6IHRydWUsCiAgImNvbG9yIjogImJsdWUiLAogICJkYXNoQXJyYXkiOiBudWxsLAogICJkYXNoT2Zmc2V0IjogbnVsbCwKICAiZmlsbCI6IHRydWUsCiAgImZpbGxDb2xvciI6ICIjMzE4NmNjIiwKICAiZmlsbE9wYWNpdHkiOiAwLjcsCiAgImZpbGxSdWxlIjogImV2ZW5vZGQiLAogICJsaW5lQ2FwIjogInJvdW5kIiwKICAibGluZUpvaW4iOiAicm91bmQiLAogICJvcGFjaXR5IjogMS4wLAogICJyYWRpdXMiOiA1LAogICJzdHJva2UiOiB0cnVlLAogICJ3ZWlnaHQiOiAzCn0KICAgICAgICAgICAgICAgICkuYWRkVG8obWFwXzQ4ZGJkOGQ0NjgwMjQzZGFiNTA5ZjA0MTVhYTE2ZDAwKTsKICAgICAgICAgICAgCiAgICAKICAgICAgICAgICAgdmFyIHBvcHVwXzE1OTRmNzc5N2NhNDQ5Mjc5YzA4ZTNmODI3NTg0YTFjID0gTC5wb3B1cCh7bWF4V2lkdGg6ICczMDAnfSk7CgogICAgICAgICAgICAKICAgICAgICAgICAgICAgIHZhciBodG1sXzRjYTI1N2Y3NWY1MzRjODQ5NjBmMjg4NzM3YmU4Yjc5ID0gJCgnPGRpdiBpZD0iaHRtbF80Y2EyNTdmNzVmNTM0Yzg0OTYwZjI4ODczN2JlOGI3OSIgc3R5bGU9IndpZHRoOiAxMDAuMCU7IGhlaWdodDogMTAwLjAlOyI+zpTPhc6sz4HOuSBDYWbDqTwvZGl2PicpWzBdOwogICAgICAgICAgICAgICAgcG9wdXBfMTU5NGY3Nzk3Y2E0NDkyNzljMDhlM2Y4Mjc1ODRhMWMuc2V0Q29udGVudChodG1sXzRjYTI1N2Y3NWY1MzRjODQ5NjBmMjg4NzM3YmU4Yjc5KTsKICAgICAgICAgICAgCgogICAgICAgICAgICBjaXJjbGVfbWFya2VyXzI4MWQ2OGQ4ZTVkMDQwZGZiOGQ0M2RhMjFkYmMzNmQ1LmJpbmRQb3B1cChwb3B1cF8xNTk0Zjc3OTdjYTQ0OTI3OWMwOGUzZjgyNzU4NGExYyk7CgogICAgICAgICAgICAKICAgICAgICAKICAgIAogICAgICAgICAgICB2YXIgY2lyY2xlX21hcmtlcl8xNDY5YTAwM2Q2NzM0MTY1YjdhMzc2MDc4N2ZlYzU0MyA9IEwuY2lyY2xlTWFya2VyKAogICAgICAgICAgICAgICAgWzM3Ljk4MDU2OSwyMy43MTE5NDZdLAogICAgICAgICAgICAgICAgewogICJidWJibGluZ01vdXNlRXZlbnRzIjogdHJ1ZSwKICAiY29sb3IiOiAiYmx1ZSIsCiAgImRhc2hBcnJheSI6IG51bGwsCiAgImRhc2hPZmZzZXQiOiBudWxsLAogICJmaWxsIjogdHJ1ZSwKICAiZmlsbENvbG9yIjogIiMzMTg2Y2MiLAogICJmaWxsT3BhY2l0eSI6IDAuNywKICAiZmlsbFJ1bGUiOiAiZXZlbm9kZCIsCiAgImxpbmVDYXAiOiAicm91bmQiLAogICJsaW5lSm9pbiI6ICJyb3VuZCIsCiAgIm9wYWNpdHkiOiAxLjAsCiAgInJhZGl1cyI6IDUsCiAgInN0cm9rZSI6IHRydWUsCiAgIndlaWdodCI6IDMKfQogICAgICAgICAgICAgICAgKS5hZGRUbyhtYXBfNDhkYmQ4ZDQ2ODAyNDNkYWI1MDlmMDQxNWFhMTZkMDApOwogICAgICAgICAgICAKICAgIAogICAgICAgICAgICB2YXIgcG9wdXBfM2ZkZjNiMGQ2OTRiNDA4Mjg4YWEwZTE4Njg5NGU1ZWUgPSBMLnBvcHVwKHttYXhXaWR0aDogJzMwMCd9KTsKCiAgICAgICAgICAgIAogICAgICAgICAgICAgICAgdmFyIGh0bWxfYzlkMDhlMzE4OWE4NGIzZGFiNDdiN2U3YmU4Nzg0YjQgPSAkKCc8ZGl2IGlkPSJodG1sX2M5ZDA4ZTMxODlhODRiM2RhYjQ3YjdlN2JlODc4NGI0IiBzdHlsZT0id2lkdGg6IDEwMC4wJTsgaGVpZ2h0OiAxMDAuMCU7Ij5Db2ZmZWUgSXNsYW5kPC9kaXY+JylbMF07CiAgICAgICAgICAgICAgICBwb3B1cF8zZmRmM2IwZDY5NGI0MDgyODhhYTBlMTg2ODk0ZTVlZS5zZXRDb250ZW50KGh0bWxfYzlkMDhlMzE4OWE4NGIzZGFiNDdiN2U3YmU4Nzg0YjQpOwogICAgICAgICAgICAKCiAgICAgICAgICAgIGNpcmNsZV9tYXJrZXJfMTQ2OWEwMDNkNjczNDE2NWI3YTM3NjA3ODdmZWM1NDMuYmluZFBvcHVwKHBvcHVwXzNmZGYzYjBkNjk0YjQwODI4OGFhMGUxODY4OTRlNWVlKTsKCiAgICAgICAgICAgIAogICAgICAgIAogICAgCiAgICAgICAgICAgIHZhciBjaXJjbGVfbWFya2VyX2RmYTkzYzFlMjBhNjRiMWFiZTk2MmYzMjAyNWU4ZjQyID0gTC5jaXJjbGVNYXJrZXIoCiAgICAgICAgICAgICAgICBbMzcuOTc0MTc0NDI3NjA4OTgsMjMuNzExMTI1OTk1NzQzN10sCiAgICAgICAgICAgICAgICB7CiAgImJ1YmJsaW5nTW91c2VFdmVudHMiOiB0cnVlLAogICJjb2xvciI6ICJibHVlIiwKICAiZGFzaEFycmF5IjogbnVsbCwKICAiZGFzaE9mZnNldCI6IG51bGwsCiAgImZpbGwiOiB0cnVlLAogICJmaWxsQ29sb3IiOiAiIzMxODZjYyIsCiAgImZpbGxPcGFjaXR5IjogMC43LAogICJmaWxsUnVsZSI6ICJldmVub2RkIiwKICAibGluZUNhcCI6ICJyb3VuZCIsCiAgImxpbmVKb2luIjogInJvdW5kIiwKICAib3BhY2l0eSI6IDEuMCwKICAicmFkaXVzIjogNSwKICAic3Ryb2tlIjogdHJ1ZSwKICAid2VpZ2h0IjogMwp9CiAgICAgICAgICAgICAgICApLmFkZFRvKG1hcF80OGRiZDhkNDY4MDI0M2RhYjUwOWYwNDE1YWExNmQwMCk7CiAgICAgICAgICAgIAogICAgCiAgICAgICAgICAgIHZhciBwb3B1cF8xOGFhMTk5YzFlMDU0N2M2YjkxMzVmOGU4ZmM2OTI4OCA9IEwucG9wdXAoe21heFdpZHRoOiAnMzAwJ30pOwoKICAgICAgICAgICAgCiAgICAgICAgICAgICAgICB2YXIgaHRtbF8wYzVhNmY1MTlmOGI0MDVlYmU3OGVjMWEyNTMxMjMwZiA9ICQoJzxkaXYgaWQ9Imh0bWxfMGM1YTZmNTE5ZjhiNDA1ZWJlNzhlYzFhMjUzMTIzMGYiIHN0eWxlPSJ3aWR0aDogMTAwLjAlOyBoZWlnaHQ6IDEwMC4wJTsiPs6bz4zOu86xPC9kaXY+JylbMF07CiAgICAgICAgICAgICAgICBwb3B1cF8xOGFhMTk5YzFlMDU0N2M2YjkxMzVmOGU4ZmM2OTI4OC5zZXRDb250ZW50KGh0bWxfMGM1YTZmNTE5ZjhiNDA1ZWJlNzhlYzFhMjUzMTIzMGYpOwogICAgICAgICAgICAKCiAgICAgICAgICAgIGNpcmNsZV9tYXJrZXJfZGZhOTNjMWUyMGE2NGIxYWJlOTYyZjMyMDI1ZThmNDIuYmluZFBvcHVwKHBvcHVwXzE4YWExOTljMWUwNTQ3YzZiOTEzNWY4ZThmYzY5Mjg4KTsKCiAgICAgICAgICAgIAogICAgICAgIAogICAgCiAgICAgICAgICAgIHZhciBjaXJjbGVfbWFya2VyXzdiYTcyNzMxODNmMzQ1NDc5NmNkOTFmZWRkY2UzYTFmID0gTC5jaXJjbGVNYXJrZXIoCiAgICAgICAgICAgICAgICBbMzcuOTczNzIyODYyOTQyMTcsMjMuNzE0NTM5MDE2MTc2NzkzXSwKICAgICAgICAgICAgICAgIHsKICAiYnViYmxpbmdNb3VzZUV2ZW50cyI6IHRydWUsCiAgImNvbG9yIjogImJsdWUiLAogICJkYXNoQXJyYXkiOiBudWxsLAogICJkYXNoT2Zmc2V0IjogbnVsbCwKICAiZmlsbCI6IHRydWUsCiAgImZpbGxDb2xvciI6ICIjMzE4NmNjIiwKICAiZmlsbE9wYWNpdHkiOiAwLjcsCiAgImZpbGxSdWxlIjogImV2ZW5vZGQiLAogICJsaW5lQ2FwIjogInJvdW5kIiwKICAibGluZUpvaW4iOiAicm91bmQiLAogICJvcGFjaXR5IjogMS4wLAogICJyYWRpdXMiOiA1LAogICJzdHJva2UiOiB0cnVlLAogICJ3ZWlnaHQiOiAzCn0KICAgICAgICAgICAgICAgICkuYWRkVG8obWFwXzQ4ZGJkOGQ0NjgwMjQzZGFiNTA5ZjA0MTVhYTE2ZDAwKTsKICAgICAgICAgICAgCiAgICAKICAgICAgICAgICAgdmFyIHBvcHVwX2E4MTdlZTVmNjM0YTQ2NjA4ZTM3ZjBiZDI1NzIyNjFhID0gTC5wb3B1cCh7bWF4V2lkdGg6ICczMDAnfSk7CgogICAgICAgICAgICAKICAgICAgICAgICAgICAgIHZhciBodG1sXzg3ODM5NzA2YTlhOTQ2N2U5MGQyYmM2MmQwNTM3MTUzID0gJCgnPGRpdiBpZD0iaHRtbF84NzgzOTcwNmE5YTk0NjdlOTBkMmJjNjJkMDUzNzE1MyIgc3R5bGU9IndpZHRoOiAxMDAuMCU7IGhlaWdodDogMTAwLjAlOyI+zpzPgM6szrzPgM6/z4XPgc6xz4I8L2Rpdj4nKVswXTsKICAgICAgICAgICAgICAgIHBvcHVwX2E4MTdlZTVmNjM0YTQ2NjA4ZTM3ZjBiZDI1NzIyNjFhLnNldENvbnRlbnQoaHRtbF84NzgzOTcwNmE5YTk0NjdlOTBkMmJjNjJkMDUzNzE1Myk7CiAgICAgICAgICAgIAoKICAgICAgICAgICAgY2lyY2xlX21hcmtlcl83YmE3MjczMTgzZjM0NTQ3OTZjZDkxZmVkZGNlM2ExZi5iaW5kUG9wdXAocG9wdXBfYTgxN2VlNWY2MzRhNDY2MDhlMzdmMGJkMjU3MjI2MWEpOwoKICAgICAgICAgICAgCiAgICAgICAgCiAgICAKICAgICAgICAgICAgdmFyIGNpcmNsZV9tYXJrZXJfY2IxN2M2MmU4NTliNDI2MGIwMGQxOWY5ZDY2ZTg5Y2UgPSBMLmNpcmNsZU1hcmtlcigKICAgICAgICAgICAgICAgIFszNy45NzQxOTg2NDUxNzA3OCwyMy43MTAxODA5NzU1NzE5NDhdLAogICAgICAgICAgICAgICAgewogICJidWJibGluZ01vdXNlRXZlbnRzIjogdHJ1ZSwKICAiY29sb3IiOiAiYmx1ZSIsCiAgImRhc2hBcnJheSI6IG51bGwsCiAgImRhc2hPZmZzZXQiOiBudWxsLAogICJmaWxsIjogdHJ1ZSwKICAiZmlsbENvbG9yIjogIiMzMTg2Y2MiLAogICJmaWxsT3BhY2l0eSI6IDAuNywKICAiZmlsbFJ1bGUiOiAiZXZlbm9kZCIsCiAgImxpbmVDYXAiOiAicm91bmQiLAogICJsaW5lSm9pbiI6ICJyb3VuZCIsCiAgIm9wYWNpdHkiOiAxLjAsCiAgInJhZGl1cyI6IDUsCiAgInN0cm9rZSI6IHRydWUsCiAgIndlaWdodCI6IDMKfQogICAgICAgICAgICAgICAgKS5hZGRUbyhtYXBfNDhkYmQ4ZDQ2ODAyNDNkYWI1MDlmMDQxNWFhMTZkMDApOwogICAgICAgICAgICAKICAgIAogICAgICAgICAgICB2YXIgcG9wdXBfN2U0ZmQyNDA2YjEzNGUwZThmZmRkZmJiZmE2MTljZjYgPSBMLnBvcHVwKHttYXhXaWR0aDogJzMwMCd9KTsKCiAgICAgICAgICAgIAogICAgICAgICAgICAgICAgdmFyIGh0bWxfN2QzMjU3NDBhYTQzNDZkNjgyNzY4NWI1YTk1NGZhNzMgPSAkKCc8ZGl2IGlkPSJodG1sXzdkMzI1NzQwYWE0MzQ2ZDY4Mjc2ODViNWE5NTRmYTczIiBzdHlsZT0id2lkdGg6IDEwMC4wJTsgaGVpZ2h0OiAxMDAuMCU7Ij5VcHVwYSBFcG9wczwvZGl2PicpWzBdOwogICAgICAgICAgICAgICAgcG9wdXBfN2U0ZmQyNDA2YjEzNGUwZThmZmRkZmJiZmE2MTljZjYuc2V0Q29udGVudChodG1sXzdkMzI1NzQwYWE0MzQ2ZDY4Mjc2ODViNWE5NTRmYTczKTsKICAgICAgICAgICAgCgogICAgICAgICAgICBjaXJjbGVfbWFya2VyX2NiMTdjNjJlODU5YjQyNjBiMDBkMTlmOWQ2NmU4OWNlLmJpbmRQb3B1cChwb3B1cF83ZTRmZDI0MDZiMTM0ZTBlOGZmZGRmYmJmYTYxOWNmNik7CgogICAgICAgICAgICAKICAgICAgICAKICAgIAogICAgICAgICAgICB2YXIgY2lyY2xlX21hcmtlcl85MGM3MWVlNzhhODg0MjJiOGJlYmMyZmNkNmVmYWFlMyA9IEwuY2lyY2xlTWFya2VyKAogICAgICAgICAgICAgICAgWzM3Ljk3OTIyNjM1NDI4MDQ2LDIzLjcyMjY4NTM2NTQwMjA4XSwKICAgICAgICAgICAgICAgIHsKICAiYnViYmxpbmdNb3VzZUV2ZW50cyI6IHRydWUsCiAgImNvbG9yIjogImJsdWUiLAogICJkYXNoQXJyYXkiOiBudWxsLAogICJkYXNoT2Zmc2V0IjogbnVsbCwKICAiZmlsbCI6IHRydWUsCiAgImZpbGxDb2xvciI6ICIjMzE4NmNjIiwKICAiZmlsbE9wYWNpdHkiOiAwLjcsCiAgImZpbGxSdWxlIjogImV2ZW5vZGQiLAogICJsaW5lQ2FwIjogInJvdW5kIiwKICAibGluZUpvaW4iOiAicm91bmQiLAogICJvcGFjaXR5IjogMS4wLAogICJyYWRpdXMiOiA1LAogICJzdHJva2UiOiB0cnVlLAogICJ3ZWlnaHQiOiAzCn0KICAgICAgICAgICAgICAgICkuYWRkVG8obWFwXzQ4ZGJkOGQ0NjgwMjQzZGFiNTA5ZjA0MTVhYTE2ZDAwKTsKICAgICAgICAgICAgCiAgICAKICAgICAgICAgICAgdmFyIHBvcHVwXzM5YmZkNWUxZmQzOTQzNGY5YTM0NjZhYTIxMTRjMjFhID0gTC5wb3B1cCh7bWF4V2lkdGg6ICczMDAnfSk7CgogICAgICAgICAgICAKICAgICAgICAgICAgICAgIHZhciBodG1sXzA0ODljMDM3ODZiYTQ1NWY4MGFjNDViZWRmZWRkZDE1ID0gJCgnPGRpdiBpZD0iaHRtbF8wNDg5YzAzNzg2YmE0NTVmODBhYzQ1YmVkZmVkZGQxNSIgc3R5bGU9IndpZHRoOiAxMDAuMCU7IGhlaWdodDogMTAwLjAlOyI+Qm9vPC9kaXY+JylbMF07CiAgICAgICAgICAgICAgICBwb3B1cF8zOWJmZDVlMWZkMzk0MzRmOWEzNDY2YWEyMTE0YzIxYS5zZXRDb250ZW50KGh0bWxfMDQ4OWMwMzc4NmJhNDU1ZjgwYWM0NWJlZGZlZGRkMTUpOwogICAgICAgICAgICAKCiAgICAgICAgICAgIGNpcmNsZV9tYXJrZXJfOTBjNzFlZTc4YTg4NDIyYjhiZWJjMmZjZDZlZmFhZTMuYmluZFBvcHVwKHBvcHVwXzM5YmZkNWUxZmQzOTQzNGY5YTM0NjZhYTIxMTRjMjFhKTsKCiAgICAgICAgICAgIAogICAgICAgIAogICAgCiAgICAgICAgICAgIHZhciBjaXJjbGVfbWFya2VyXzAxMWViYjcxMmI2MjRkZmQ5NDcxZGUyYTI5M2Q1NWZkID0gTC5jaXJjbGVNYXJrZXIoCiAgICAgICAgICAgICAgICBbMzcuOTc2NjI0MDE5MzQxNTIsMjMuNzI0NjE3MjA2MTEzOF0sCiAgICAgICAgICAgICAgICB7CiAgImJ1YmJsaW5nTW91c2VFdmVudHMiOiB0cnVlLAogICJjb2xvciI6ICJibHVlIiwKICAiZGFzaEFycmF5IjogbnVsbCwKICAiZGFzaE9mZnNldCI6IG51bGwsCiAgImZpbGwiOiB0cnVlLAogICJmaWxsQ29sb3IiOiAiIzMxODZjYyIsCiAgImZpbGxPcGFjaXR5IjogMC43LAogICJmaWxsUnVsZSI6ICJldmVub2RkIiwKICAibGluZUNhcCI6ICJyb3VuZCIsCiAgImxpbmVKb2luIjogInJvdW5kIiwKICAib3BhY2l0eSI6IDEuMCwKICAicmFkaXVzIjogNSwKICAic3Ryb2tlIjogdHJ1ZSwKICAid2VpZ2h0IjogMwp9CiAgICAgICAgICAgICAgICApLmFkZFRvKG1hcF80OGRiZDhkNDY4MDI0M2RhYjUwOWYwNDE1YWExNmQwMCk7CiAgICAgICAgICAgIAogICAgCiAgICAgICAgICAgIHZhciBwb3B1cF8yY2RjN2YzMzcwODc0Zjk2OWVlMTQwYTJmZDVhYzNjMyA9IEwucG9wdXAoe21heFdpZHRoOiAnMzAwJ30pOwoKICAgICAgICAgICAgCiAgICAgICAgICAgICAgICB2YXIgaHRtbF9lYWQ3ZGNlODg5YWE0NDYxOTBmNWVmNjFiNzAwNDAzZCA9ICQoJzxkaXYgaWQ9Imh0bWxfZWFkN2RjZTg4OWFhNDQ2MTkwZjVlZjYxYjcwMDQwM2QiIHN0eWxlPSJ3aWR0aDogMTAwLjAlOyBoZWlnaHQ6IDEwMC4wJTsiPkNvdWxldXIgTG9jYWxlPC9kaXY+JylbMF07CiAgICAgICAgICAgICAgICBwb3B1cF8yY2RjN2YzMzcwODc0Zjk2OWVlMTQwYTJmZDVhYzNjMy5zZXRDb250ZW50KGh0bWxfZWFkN2RjZTg4OWFhNDQ2MTkwZjVlZjYxYjcwMDQwM2QpOwogICAgICAgICAgICAKCiAgICAgICAgICAgIGNpcmNsZV9tYXJrZXJfMDExZWJiNzEyYjYyNGRmZDk0NzFkZTJhMjkzZDU1ZmQuYmluZFBvcHVwKHBvcHVwXzJjZGM3ZjMzNzA4NzRmOTY5ZWUxNDBhMmZkNWFjM2MzKTsKCiAgICAgICAgICAgIAogICAgICAgIAogICAgCiAgICAgICAgICAgIHZhciBjaXJjbGVfbWFya2VyXzk4ZjYwZTNjM2FmMDRhYTlhYTdjNTA1ODZmM2ZlMjk3ID0gTC5jaXJjbGVNYXJrZXIoCiAgICAgICAgICAgICAgICBbMzcuOTc4MzY4NjI5MDEzNzMsMjMuNzI0ODE2NjYyNDc4NzY2XSwKICAgICAgICAgICAgICAgIHsKICAiYnViYmxpbmdNb3VzZUV2ZW50cyI6IHRydWUsCiAgImNvbG9yIjogImJsdWUiLAogICJkYXNoQXJyYXkiOiBudWxsLAogICJkYXNoT2Zmc2V0IjogbnVsbCwKICAiZmlsbCI6IHRydWUsCiAgImZpbGxDb2xvciI6ICIjMzE4NmNjIiwKICAiZmlsbE9wYWNpdHkiOiAwLjcsCiAgImZpbGxSdWxlIjogImV2ZW5vZGQiLAogICJsaW5lQ2FwIjogInJvdW5kIiwKICAibGluZUpvaW4iOiAicm91bmQiLAogICJvcGFjaXR5IjogMS4wLAogICJyYWRpdXMiOiA1LAogICJzdHJva2UiOiB0cnVlLAogICJ3ZWlnaHQiOiAzCn0KICAgICAgICAgICAgICAgICkuYWRkVG8obWFwXzQ4ZGJkOGQ0NjgwMjQzZGFiNTA5ZjA0MTVhYTE2ZDAwKTsKICAgICAgICAgICAgCiAgICAKICAgICAgICAgICAgdmFyIHBvcHVwXzBlZDc1NDY3Y2YwZTRhNzhhNmQ5NTQ3MzJlZjY2MzJjID0gTC5wb3B1cCh7bWF4V2lkdGg6ICczMDAnfSk7CgogICAgICAgICAgICAKICAgICAgICAgICAgICAgIHZhciBodG1sXzA1NDFmZWUyOTQ4ZTRkNGY5NzhlNWRlZmJjMzBhYWFiID0gJCgnPGRpdiBpZD0iaHRtbF8wNTQxZmVlMjk0OGU0ZDRmOTc4ZTVkZWZiYzMwYWFhYiIgc3R5bGU9IndpZHRoOiAxMDAuMCU7IGhlaWdodDogMTAwLjAlOyI+TmFuY3kmIzM5O3MgU3dlZXQgSG9tZSAozqTOvyDOo861z4HOvM+AzrXPhM+Mz4PPgM65z4TOvyDPhM63z4Igzp3OrM69z4PPhSk8L2Rpdj4nKVswXTsKICAgICAgICAgICAgICAgIHBvcHVwXzBlZDc1NDY3Y2YwZTRhNzhhNmQ5NTQ3MzJlZjY2MzJjLnNldENvbnRlbnQoaHRtbF8wNTQxZmVlMjk0OGU0ZDRmOTc4ZTVkZWZiYzMwYWFhYik7CiAgICAgICAgICAgIAoKICAgICAgICAgICAgY2lyY2xlX21hcmtlcl85OGY2MGUzYzNhZjA0YWE5YWE3YzUwNTg2ZjNmZTI5Ny5iaW5kUG9wdXAocG9wdXBfMGVkNzU0NjdjZjBlNGE3OGE2ZDk1NDczMmVmNjYzMmMpOwoKICAgICAgICAgICAgCiAgICAgICAgCiAgICAKICAgICAgICAgICAgdmFyIGNpcmNsZV9tYXJrZXJfNjE5MmIyMTQwZDJkNDIzN2I0NjlmNDZlZGMwYTlkMzYgPSBMLmNpcmNsZU1hcmtlcigKICAgICAgICAgICAgICAgIFszNy45NzY1NjAxNjA2ODk1NSwyMy43MjQ1NDkzNzg0NDU5MTRdLAogICAgICAgICAgICAgICAgewogICJidWJibGluZ01vdXNlRXZlbnRzIjogdHJ1ZSwKICAiY29sb3IiOiAiYmx1ZSIsCiAgImRhc2hBcnJheSI6IG51bGwsCiAgImRhc2hPZmZzZXQiOiBudWxsLAogICJmaWxsIjogdHJ1ZSwKICAiZmlsbENvbG9yIjogIiMzMTg2Y2MiLAogICJmaWxsT3BhY2l0eSI6IDAuNywKICAiZmlsbFJ1bGUiOiAiZXZlbm9kZCIsCiAgImxpbmVDYXAiOiAicm91bmQiLAogICJsaW5lSm9pbiI6ICJyb3VuZCIsCiAgIm9wYWNpdHkiOiAxLjAsCiAgInJhZGl1cyI6IDUsCiAgInN0cm9rZSI6IHRydWUsCiAgIndlaWdodCI6IDMKfQogICAgICAgICAgICAgICAgKS5hZGRUbyhtYXBfNDhkYmQ4ZDQ2ODAyNDNkYWI1MDlmMDQxNWFhMTZkMDApOwogICAgICAgICAgICAKICAgIAogICAgICAgICAgICB2YXIgcG9wdXBfN2ViNTEzMjI5M2U2NDg0NTk4ZjNmMGY2ZTY3YTI2ZjggPSBMLnBvcHVwKHttYXhXaWR0aDogJzMwMCd9KTsKCiAgICAgICAgICAgIAogICAgICAgICAgICAgICAgdmFyIGh0bWxfMjY2ODFkMzZkZjliNDIzYjhlZDE4N2U3YjUxNzI2NGQgPSAkKCc8ZGl2IGlkPSJodG1sXzI2NjgxZDM2ZGY5YjQyM2I4ZWQxODdlN2I1MTcyNjRkIiBzdHlsZT0id2lkdGg6IDEwMC4wJTsgaGVpZ2h0OiAxMDAuMCU7Ij5UaGUgQXJ0IEZvdW5kYXRpb24gKFRBRiBBdGhlbnMpPC9kaXY+JylbMF07CiAgICAgICAgICAgICAgICBwb3B1cF83ZWI1MTMyMjkzZTY0ODQ1OThmM2YwZjZlNjdhMjZmOC5zZXRDb250ZW50KGh0bWxfMjY2ODFkMzZkZjliNDIzYjhlZDE4N2U3YjUxNzI2NGQpOwogICAgICAgICAgICAKCiAgICAgICAgICAgIGNpcmNsZV9tYXJrZXJfNjE5MmIyMTQwZDJkNDIzN2I0NjlmNDZlZGMwYTlkMzYuYmluZFBvcHVwKHBvcHVwXzdlYjUxMzIyOTNlNjQ4NDU5OGYzZjBmNmU2N2EyNmY4KTsKCiAgICAgICAgICAgIAogICAgICAgIAogICAgCiAgICAgICAgICAgIHZhciBjaXJjbGVfbWFya2VyX2RmMTIzZDY5N2Y2YjQ0YTM5Y2VkNzAxN2I2NzkyZTY0ID0gTC5jaXJjbGVNYXJrZXIoCiAgICAgICAgICAgICAgICBbMzcuOTc3ODgsMjMuNzI0NjZdLAogICAgICAgICAgICAgICAgewogICJidWJibGluZ01vdXNlRXZlbnRzIjogdHJ1ZSwKICAiY29sb3IiOiAiYmx1ZSIsCiAgImRhc2hBcnJheSI6IG51bGwsCiAgImRhc2hPZmZzZXQiOiBudWxsLAogICJmaWxsIjogdHJ1ZSwKICAiZmlsbENvbG9yIjogIiMzMTg2Y2MiLAogICJmaWxsT3BhY2l0eSI6IDAuNywKICAiZmlsbFJ1bGUiOiAiZXZlbm9kZCIsCiAgImxpbmVDYXAiOiAicm91bmQiLAogICJsaW5lSm9pbiI6ICJyb3VuZCIsCiAgIm9wYWNpdHkiOiAxLjAsCiAgInJhZGl1cyI6IDUsCiAgInN0cm9rZSI6IHRydWUsCiAgIndlaWdodCI6IDMKfQogICAgICAgICAgICAgICAgKS5hZGRUbyhtYXBfNDhkYmQ4ZDQ2ODAyNDNkYWI1MDlmMDQxNWFhMTZkMDApOwogICAgICAgICAgICAKICAgIAogICAgICAgICAgICB2YXIgcG9wdXBfNjY2OThiNjdlOGNkNDNjYjhlN2RkODg0MGMzYjljNGEgPSBMLnBvcHVwKHttYXhXaWR0aDogJzMwMCd9KTsKCiAgICAgICAgICAgIAogICAgICAgICAgICAgICAgdmFyIGh0bWxfOTM3YzEwYjg5ZjExNDljYjlkZDgyZTQxOGQ2OTc0NDggPSAkKCc8ZGl2IGlkPSJodG1sXzkzN2MxMGI4OWYxMTQ5Y2I5ZGQ4MmU0MThkNjk3NDQ4IiBzdHlsZT0id2lkdGg6IDEwMC4wJTsgaGVpZ2h0OiAxMDAuMCU7Ij5LaW5nYHMgVGhlYXRlcjwvZGl2PicpWzBdOwogICAgICAgICAgICAgICAgcG9wdXBfNjY2OThiNjdlOGNkNDNjYjhlN2RkODg0MGMzYjljNGEuc2V0Q29udGVudChodG1sXzkzN2MxMGI4OWYxMTQ5Y2I5ZGQ4MmU0MThkNjk3NDQ4KTsKICAgICAgICAgICAgCgogICAgICAgICAgICBjaXJjbGVfbWFya2VyX2RmMTIzZDY5N2Y2YjQ0YTM5Y2VkNzAxN2I2NzkyZTY0LmJpbmRQb3B1cChwb3B1cF82NjY5OGI2N2U4Y2Q0M2NiOGU3ZGQ4ODQwYzNiOWM0YSk7CgogICAgICAgICAgICAKICAgICAgICAKICAgIAogICAgICAgICAgICB2YXIgY2lyY2xlX21hcmtlcl8yYzNmN2M1MTRkNmI0M2EwYTQzZjUwYzE3YTFiMTY2MiA9IEwuY2lyY2xlTWFya2VyKAogICAgICAgICAgICAgICAgWzM3Ljk3ODA5MDAxMzQzMzEsMjMuNzI1NjM3Njk3MjkzMDk1XSwKICAgICAgICAgICAgICAgIHsKICAiYnViYmxpbmdNb3VzZUV2ZW50cyI6IHRydWUsCiAgImNvbG9yIjogImJsdWUiLAogICJkYXNoQXJyYXkiOiBudWxsLAogICJkYXNoT2Zmc2V0IjogbnVsbCwKICAiZmlsbCI6IHRydWUsCiAgImZpbGxDb2xvciI6ICIjMzE4NmNjIiwKICAiZmlsbE9wYWNpdHkiOiAwLjcsCiAgImZpbGxSdWxlIjogImV2ZW5vZGQiLAogICJsaW5lQ2FwIjogInJvdW5kIiwKICAibGluZUpvaW4iOiAicm91bmQiLAogICJvcGFjaXR5IjogMS4wLAogICJyYWRpdXMiOiA1LAogICJzdHJva2UiOiB0cnVlLAogICJ3ZWlnaHQiOiAzCn0KICAgICAgICAgICAgICAgICkuYWRkVG8obWFwXzQ4ZGJkOGQ0NjgwMjQzZGFiNTA5ZjA0MTVhYTE2ZDAwKTsKICAgICAgICAgICAgCiAgICAKICAgICAgICAgICAgdmFyIHBvcHVwXzllNmRiN2U3MGU4OTQ3NDE5MjcwYTY2OWY0NGY3MTk2ID0gTC5wb3B1cCh7bWF4V2lkdGg6ICczMDAnfSk7CgogICAgICAgICAgICAKICAgICAgICAgICAgICAgIHZhciBodG1sXzAwMDRkMmQxZDU1NjRlZjE5NmRlOTAyOWQ5OTJlOGM3ID0gJCgnPGRpdiBpZD0iaHRtbF8wMDA0ZDJkMWQ1NTY0ZWYxOTZkZTkwMjlkOTkyZThjNyIgc3R5bGU9IndpZHRoOiAxMDAuMCU7IGhlaWdodDogMTAwLjAlOyI+QmFycmV0dDwvZGl2PicpWzBdOwogICAgICAgICAgICAgICAgcG9wdXBfOWU2ZGI3ZTcwZTg5NDc0MTkyNzBhNjY5ZjQ0ZjcxOTYuc2V0Q29udGVudChodG1sXzAwMDRkMmQxZDU1NjRlZjE5NmRlOTAyOWQ5OTJlOGM3KTsKICAgICAgICAgICAgCgogICAgICAgICAgICBjaXJjbGVfbWFya2VyXzJjM2Y3YzUxNGQ2YjQzYTBhNDNmNTBjMTdhMWIxNjYyLmJpbmRQb3B1cChwb3B1cF85ZTZkYjdlNzBlODk0NzQxOTI3MGE2NjlmNDRmNzE5Nik7CgogICAgICAgICAgICAKICAgICAgICAKICAgIAogICAgICAgICAgICB2YXIgY2lyY2xlX21hcmtlcl80OTI3MDBiYjJjMmE0ZDNiYmUyZDMxNDAzMjM1MTA2MyA9IEwuY2lyY2xlTWFya2VyKAogICAgICAgICAgICAgICAgWzM3Ljk3OTY4NTUxNTg4ODU3LDIzLjcyNTgxNTEzNTE0NzAxXSwKICAgICAgICAgICAgICAgIHsKICAiYnViYmxpbmdNb3VzZUV2ZW50cyI6IHRydWUsCiAgImNvbG9yIjogImJsdWUiLAogICJkYXNoQXJyYXkiOiBudWxsLAogICJkYXNoT2Zmc2V0IjogbnVsbCwKICAiZmlsbCI6IHRydWUsCiAgImZpbGxDb2xvciI6ICIjMzE4NmNjIiwKICAiZmlsbE9wYWNpdHkiOiAwLjcsCiAgImZpbGxSdWxlIjogImV2ZW5vZGQiLAogICJsaW5lQ2FwIjogInJvdW5kIiwKICAibGluZUpvaW4iOiAicm91bmQiLAogICJvcGFjaXR5IjogMS4wLAogICJyYWRpdXMiOiA1LAogICJzdHJva2UiOiB0cnVlLAogICJ3ZWlnaHQiOiAzCn0KICAgICAgICAgICAgICAgICkuYWRkVG8obWFwXzQ4ZGJkOGQ0NjgwMjQzZGFiNTA5ZjA0MTVhYTE2ZDAwKTsKICAgICAgICAgICAgCiAgICAKICAgICAgICAgICAgdmFyIHBvcHVwX2EzYTg4MmFjMzEzYzRiZjE4NmZlM2NlNjlmNjVlMDg1ID0gTC5wb3B1cCh7bWF4V2lkdGg6ICczMDAnfSk7CgogICAgICAgICAgICAKICAgICAgICAgICAgICAgIHZhciBodG1sXzQ2ZDU4YzIzNzEwNjRiMGVhYWUwOTE2YzNjNGZiZWM0ID0gJCgnPGRpdiBpZD0iaHRtbF80NmQ1OGMyMzcxMDY0YjBlYWFlMDkxNmMzYzRmYmVjNCIgc3R5bGU9IndpZHRoOiAxMDAuMCU7IGhlaWdodDogMTAwLjAlOyI+QXZsaSAozpHPhc67zq4pPC9kaXY+JylbMF07CiAgICAgICAgICAgICAgICBwb3B1cF9hM2E4ODJhYzMxM2M0YmYxODZmZTNjZTY5ZjY1ZTA4NS5zZXRDb250ZW50KGh0bWxfNDZkNThjMjM3MTA2NGIwZWFhZTA5MTZjM2M0ZmJlYzQpOwogICAgICAgICAgICAKCiAgICAgICAgICAgIGNpcmNsZV9tYXJrZXJfNDkyNzAwYmIyYzJhNGQzYmJlMmQzMTQwMzIzNTEwNjMuYmluZFBvcHVwKHBvcHVwX2EzYTg4MmFjMzEzYzRiZjE4NmZlM2NlNjlmNjVlMDg1KTsKCiAgICAgICAgICAgIAogICAgICAgIAogICAgCiAgICAgICAgICAgIHZhciBjaXJjbGVfbWFya2VyX2U3MDU2ZmE0NmE1ODRjOThiZmIyOTM0MmZlYTlmOGIxID0gTC5jaXJjbGVNYXJrZXIoCiAgICAgICAgICAgICAgICBbMzcuOTgyMDUyNjc0MzMzMSwyMy43MTUyMDE0NDg3OTUxM10sCiAgICAgICAgICAgICAgICB7CiAgImJ1YmJsaW5nTW91c2VFdmVudHMiOiB0cnVlLAogICJjb2xvciI6ICJibHVlIiwKICAiZGFzaEFycmF5IjogbnVsbCwKICAiZGFzaE9mZnNldCI6IG51bGwsCiAgImZpbGwiOiB0cnVlLAogICJmaWxsQ29sb3IiOiAiIzMxODZjYyIsCiAgImZpbGxPcGFjaXR5IjogMC43LAogICJmaWxsUnVsZSI6ICJldmVub2RkIiwKICAibGluZUNhcCI6ICJyb3VuZCIsCiAgImxpbmVKb2luIjogInJvdW5kIiwKICAib3BhY2l0eSI6IDEuMCwKICAicmFkaXVzIjogNSwKICAic3Ryb2tlIjogdHJ1ZSwKICAid2VpZ2h0IjogMwp9CiAgICAgICAgICAgICAgICApLmFkZFRvKG1hcF80OGRiZDhkNDY4MDI0M2RhYjUwOWYwNDE1YWExNmQwMCk7CiAgICAgICAgICAgIAogICAgCiAgICAgICAgICAgIHZhciBwb3B1cF8xZDc4YWI1MzgwNjQ0N2EyYWMzODQwY2QyMzgwMDdlMCA9IEwucG9wdXAoe21heFdpZHRoOiAnMzAwJ30pOwoKICAgICAgICAgICAgCiAgICAgICAgICAgICAgICB2YXIgaHRtbF80MzM1MzAyMjgzY2I0YTRlYTFmZWFkMmQ4MWFjYjBhMSA9ICQoJzxkaXYgaWQ9Imh0bWxfNDMzNTMwMjI4M2NiNGE0ZWExZmVhZDJkODFhY2IwYTEiIHN0eWxlPSJ3aWR0aDogMTAwLjAlOyBoZWlnaHQ6IDEwMC4wJTsiPk5hbm91IERvbnV0cyBIb3VzZTwvZGl2PicpWzBdOwogICAgICAgICAgICAgICAgcG9wdXBfMWQ3OGFiNTM4MDY0NDdhMmFjMzg0MGNkMjM4MDA3ZTAuc2V0Q29udGVudChodG1sXzQzMzUzMDIyODNjYjRhNGVhMWZlYWQyZDgxYWNiMGExKTsKICAgICAgICAgICAgCgogICAgICAgICAgICBjaXJjbGVfbWFya2VyX2U3MDU2ZmE0NmE1ODRjOThiZmIyOTM0MmZlYTlmOGIxLmJpbmRQb3B1cChwb3B1cF8xZDc4YWI1MzgwNjQ0N2EyYWMzODQwY2QyMzgwMDdlMCk7CgogICAgICAgICAgICAKICAgICAgICAKICAgIAogICAgICAgICAgICB2YXIgY2lyY2xlX21hcmtlcl9jZDllMDE4YThhYzI0MmI2YWI2MzUyMzgzY2I4OWE0YiA9IEwuY2lyY2xlTWFya2VyKAogICAgICAgICAgICAgICAgWzM3Ljk3OTIwNDk2Njc2NTcyLDIzLjcyNjEwMjgzMTU3NTgxXSwKICAgICAgICAgICAgICAgIHsKICAiYnViYmxpbmdNb3VzZUV2ZW50cyI6IHRydWUsCiAgImNvbG9yIjogImJsdWUiLAogICJkYXNoQXJyYXkiOiBudWxsLAogICJkYXNoT2Zmc2V0IjogbnVsbCwKICAiZmlsbCI6IHRydWUsCiAgImZpbGxDb2xvciI6ICIjMzE4NmNjIiwKICAiZmlsbE9wYWNpdHkiOiAwLjcsCiAgImZpbGxSdWxlIjogImV2ZW5vZGQiLAogICJsaW5lQ2FwIjogInJvdW5kIiwKICAibGluZUpvaW4iOiAicm91bmQiLAogICJvcGFjaXR5IjogMS4wLAogICJyYWRpdXMiOiA1LAogICJzdHJva2UiOiB0cnVlLAogICJ3ZWlnaHQiOiAzCn0KICAgICAgICAgICAgICAgICkuYWRkVG8obWFwXzQ4ZGJkOGQ0NjgwMjQzZGFiNTA5ZjA0MTVhYTE2ZDAwKTsKICAgICAgICAgICAgCiAgICAKICAgICAgICAgICAgdmFyIHBvcHVwXzI5MzdmNWExZGU4MjQ5NmQ4ZWVkZmNiMDM2YzFhYWJhID0gTC5wb3B1cCh7bWF4V2lkdGg6ICczMDAnfSk7CgogICAgICAgICAgICAKICAgICAgICAgICAgICAgIHZhciBodG1sX2Q4Zjc0MmJhMjE0MTQzNjg5NDcyZDhmM2U2Y2E5M2Y1ID0gJCgnPGRpdiBpZD0iaHRtbF9kOGY3NDJiYTIxNDE0MzY4OTQ3MmQ4ZjNlNmNhOTNmNSIgc3R5bGU9IndpZHRoOiAxMDAuMCU7IGhlaWdodDogMTAwLjAlOyI+VGhlIEhhbmRsZWJhcjwvZGl2PicpWzBdOwogICAgICAgICAgICAgICAgcG9wdXBfMjkzN2Y1YTFkZTgyNDk2ZDhlZWRmY2IwMzZjMWFhYmEuc2V0Q29udGVudChodG1sX2Q4Zjc0MmJhMjE0MTQzNjg5NDcyZDhmM2U2Y2E5M2Y1KTsKICAgICAgICAgICAgCgogICAgICAgICAgICBjaXJjbGVfbWFya2VyX2NkOWUwMThhOGFjMjQyYjZhYjYzNTIzODNjYjg5YTRiLmJpbmRQb3B1cChwb3B1cF8yOTM3ZjVhMWRlODI0OTZkOGVlZGZjYjAzNmMxYWFiYSk7CgogICAgICAgICAgICAKICAgICAgICAKICAgIAogICAgICAgICAgICB2YXIgY2lyY2xlX21hcmtlcl8zMGUwNjcwNjBlOWI0NmE4OWNjZGFlNTk3NTYwZDQ4YiA9IEwuY2lyY2xlTWFya2VyKAogICAgICAgICAgICAgICAgWzM3Ljk3ODc1NTE3MTQwNTUxLDIzLjcyNTExNjA0OTU3ODc0XSwKICAgICAgICAgICAgICAgIHsKICAiYnViYmxpbmdNb3VzZUV2ZW50cyI6IHRydWUsCiAgImNvbG9yIjogImJsdWUiLAogICJkYXNoQXJyYXkiOiBudWxsLAogICJkYXNoT2Zmc2V0IjogbnVsbCwKICAiZmlsbCI6IHRydWUsCiAgImZpbGxDb2xvciI6ICIjMzE4NmNjIiwKICAiZmlsbE9wYWNpdHkiOiAwLjcsCiAgImZpbGxSdWxlIjogImV2ZW5vZGQiLAogICJsaW5lQ2FwIjogInJvdW5kIiwKICAibGluZUpvaW4iOiAicm91bmQiLAogICJvcGFjaXR5IjogMS4wLAogICJyYWRpdXMiOiA1LAogICJzdHJva2UiOiB0cnVlLAogICJ3ZWlnaHQiOiAzCn0KICAgICAgICAgICAgICAgICkuYWRkVG8obWFwXzQ4ZGJkOGQ0NjgwMjQzZGFiNTA5ZjA0MTVhYTE2ZDAwKTsKICAgICAgICAgICAgCiAgICAKICAgICAgICAgICAgdmFyIHBvcHVwXzkwNDI4ZGI2MjJjMzQxNWY4MTJhZDhmMDU1MTFiZWNhID0gTC5wb3B1cCh7bWF4V2lkdGg6ICczMDAnfSk7CgogICAgICAgICAgICAKICAgICAgICAgICAgICAgIHZhciBodG1sXzEzN2MxOTg3NzlhNjRjNjViM2Y2Mzg2YjIyODYwMjAxID0gJCgnPGRpdiBpZD0iaHRtbF8xMzdjMTk4Nzc5YTY0YzY1YjNmNjM4NmIyMjg2MDIwMSIgc3R5bGU9IndpZHRoOiAxMDAuMCU7IGhlaWdodDogMTAwLjAlOyI+zqPOtc+BzrzPgM6tz4TOuc6xIM+Dz4TOv8+FIM6oz4XPgc+Bzq48L2Rpdj4nKVswXTsKICAgICAgICAgICAgICAgIHBvcHVwXzkwNDI4ZGI2MjJjMzQxNWY4MTJhZDhmMDU1MTFiZWNhLnNldENvbnRlbnQoaHRtbF8xMzdjMTk4Nzc5YTY0YzY1YjNmNjM4NmIyMjg2MDIwMSk7CiAgICAgICAgICAgIAoKICAgICAgICAgICAgY2lyY2xlX21hcmtlcl8zMGUwNjcwNjBlOWI0NmE4OWNjZGFlNTk3NTYwZDQ4Yi5iaW5kUG9wdXAocG9wdXBfOTA0MjhkYjYyMmMzNDE1ZjgxMmFkOGYwNTUxMWJlY2EpOwoKICAgICAgICAgICAgCiAgICAgICAgCiAgICAKICAgICAgICAgICAgdmFyIGNpcmNsZV9tYXJrZXJfODY4YWUxZTI5NzRhNGZkZDlhOWExM2JkYWJjOWJhNzMgPSBMLmNpcmNsZU1hcmtlcigKICAgICAgICAgICAgICAgIFszNy45ODE1ODY0NzYxOTYyNSwyMy43MDk1Njg0MTcyODQ4OF0sCiAgICAgICAgICAgICAgICB7CiAgImJ1YmJsaW5nTW91c2VFdmVudHMiOiB0cnVlLAogICJjb2xvciI6ICJibHVlIiwKICAiZGFzaEFycmF5IjogbnVsbCwKICAiZGFzaE9mZnNldCI6IG51bGwsCiAgImZpbGwiOiB0cnVlLAogICJmaWxsQ29sb3IiOiAiIzMxODZjYyIsCiAgImZpbGxPcGFjaXR5IjogMC43LAogICJmaWxsUnVsZSI6ICJldmVub2RkIiwKICAibGluZUNhcCI6ICJyb3VuZCIsCiAgImxpbmVKb2luIjogInJvdW5kIiwKICAib3BhY2l0eSI6IDEuMCwKICAicmFkaXVzIjogNSwKICAic3Ryb2tlIjogdHJ1ZSwKICAid2VpZ2h0IjogMwp9CiAgICAgICAgICAgICAgICApLmFkZFRvKG1hcF80OGRiZDhkNDY4MDI0M2RhYjUwOWYwNDE1YWExNmQwMCk7CiAgICAgICAgICAgIAogICAgCiAgICAgICAgICAgIHZhciBwb3B1cF83Njk1MWExNzM3YTI0MjlmYWRhYmQ1M2JhODljOWIxMiA9IEwucG9wdXAoe21heFdpZHRoOiAnMzAwJ30pOwoKICAgICAgICAgICAgCiAgICAgICAgICAgICAgICB2YXIgaHRtbF82M2Q4NWFlYTZlM2E0Yzc3YmZiNzllNTRlNmY2NTM4MiA9ICQoJzxkaXYgaWQ9Imh0bWxfNjNkODVhZWE2ZTNhNGM3N2JmYjc5ZTU0ZTZmNjUzODIiIHN0eWxlPSJ3aWR0aDogMTAwLjAlOyBoZWlnaHQ6IDEwMC4wJTsiPkVsIEdyZWNvPC9kaXY+JylbMF07CiAgICAgICAgICAgICAgICBwb3B1cF83Njk1MWExNzM3YTI0MjlmYWRhYmQ1M2JhODljOWIxMi5zZXRDb250ZW50KGh0bWxfNjNkODVhZWE2ZTNhNGM3N2JmYjc5ZTU0ZTZmNjUzODIpOwogICAgICAgICAgICAKCiAgICAgICAgICAgIGNpcmNsZV9tYXJrZXJfODY4YWUxZTI5NzRhNGZkZDlhOWExM2JkYWJjOWJhNzMuYmluZFBvcHVwKHBvcHVwXzc2OTUxYTE3MzdhMjQyOWZhZGFiZDUzYmE4OWM5YjEyKTsKCiAgICAgICAgICAgIAogICAgICAgIAogICAgCiAgICAgICAgICAgIHZhciBjaXJjbGVfbWFya2VyX2FmOTdhNGJkZGE3NzQzNGI5NTZkY2JlMzZkMDUxYzQxID0gTC5jaXJjbGVNYXJrZXIoCiAgICAgICAgICAgICAgICBbMzcuOTc3NjQyNjAyNTM3NDMsMjMuNzI0NDMyNzUyMTM0NDU0XSwKICAgICAgICAgICAgICAgIHsKICAiYnViYmxpbmdNb3VzZUV2ZW50cyI6IHRydWUsCiAgImNvbG9yIjogImJsdWUiLAogICJkYXNoQXJyYXkiOiBudWxsLAogICJkYXNoT2Zmc2V0IjogbnVsbCwKICAiZmlsbCI6IHRydWUsCiAgImZpbGxDb2xvciI6ICIjMzE4NmNjIiwKICAiZmlsbE9wYWNpdHkiOiAwLjcsCiAgImZpbGxSdWxlIjogImV2ZW5vZGQiLAogICJsaW5lQ2FwIjogInJvdW5kIiwKICAibGluZUpvaW4iOiAicm91bmQiLAogICJvcGFjaXR5IjogMS4wLAogICJyYWRpdXMiOiA1LAogICJzdHJva2UiOiB0cnVlLAogICJ3ZWlnaHQiOiAzCn0KICAgICAgICAgICAgICAgICkuYWRkVG8obWFwXzQ4ZGJkOGQ0NjgwMjQzZGFiNTA5ZjA0MTVhYTE2ZDAwKTsKICAgICAgICAgICAgCiAgICAKICAgICAgICAgICAgdmFyIHBvcHVwX2U0OWMwZjNjOTEzNzRkNTdiODI1NWU2NTBlNWJhMTY3ID0gTC5wb3B1cCh7bWF4V2lkdGg6ICczMDAnfSk7CgogICAgICAgICAgICAKICAgICAgICAgICAgICAgIHZhciBodG1sX2VkMDZkNDg3ZjcwZDQyNjlhNTJkZGUyMDYxNTMwZmI3ID0gJCgnPGRpdiBpZD0iaHRtbF9lZDA2ZDQ4N2Y3MGQ0MjY5YTUyZGRlMjA2MTUzMGZiNyIgc3R5bGU9IndpZHRoOiAxMDAuMCU7IGhlaWdodDogMTAwLjAlOyI+TGl0dGxlIEtvb2s8L2Rpdj4nKVswXTsKICAgICAgICAgICAgICAgIHBvcHVwX2U0OWMwZjNjOTEzNzRkNTdiODI1NWU2NTBlNWJhMTY3LnNldENvbnRlbnQoaHRtbF9lZDA2ZDQ4N2Y3MGQ0MjY5YTUyZGRlMjA2MTUzMGZiNyk7CiAgICAgICAgICAgIAoKICAgICAgICAgICAgY2lyY2xlX21hcmtlcl9hZjk3YTRiZGRhNzc0MzRiOTU2ZGNiZTM2ZDA1MWM0MS5iaW5kUG9wdXAocG9wdXBfZTQ5YzBmM2M5MTM3NGQ1N2I4MjU1ZTY1MGU1YmExNjcpOwoKICAgICAgICAgICAgCiAgICAgICAgCiAgICAKICAgICAgICAgICAgdmFyIGNpcmNsZV9tYXJrZXJfNjcwMTEzNDkzNWQwNDQ3NWJkNzU1MDJlNjlmZThmOGQgPSBMLmNpcmNsZU1hcmtlcigKICAgICAgICAgICAgICAgIFszNy45NzY1NzU0MzY3MDMxNywyMy43MjM2NzM2OTM4MDAyMjZdLAogICAgICAgICAgICAgICAgewogICJidWJibGluZ01vdXNlRXZlbnRzIjogdHJ1ZSwKICAiY29sb3IiOiAiYmx1ZSIsCiAgImRhc2hBcnJheSI6IG51bGwsCiAgImRhc2hPZmZzZXQiOiBudWxsLAogICJmaWxsIjogdHJ1ZSwKICAiZmlsbENvbG9yIjogIiMzMTg2Y2MiLAogICJmaWxsT3BhY2l0eSI6IDAuNywKICAiZmlsbFJ1bGUiOiAiZXZlbm9kZCIsCiAgImxpbmVDYXAiOiAicm91bmQiLAogICJsaW5lSm9pbiI6ICJyb3VuZCIsCiAgIm9wYWNpdHkiOiAxLjAsCiAgInJhZGl1cyI6IDUsCiAgInN0cm9rZSI6IHRydWUsCiAgIndlaWdodCI6IDMKfQogICAgICAgICAgICAgICAgKS5hZGRUbyhtYXBfNDhkYmQ4ZDQ2ODAyNDNkYWI1MDlmMDQxNWFhMTZkMDApOwogICAgICAgICAgICAKICAgIAogICAgICAgICAgICB2YXIgcG9wdXBfMDM3NTEzMWZkMWE1NDQ3YjgxNGE4ZGE4M2YzY2E2OWQgPSBMLnBvcHVwKHttYXhXaWR0aDogJzMwMCd9KTsKCiAgICAgICAgICAgIAogICAgICAgICAgICAgICAgdmFyIGh0bWxfYjQyMTU0YTUyOTRlNDg0NmJhZjhlNmI0NTRiMjYxNjAgPSAkKCc8ZGl2IGlkPSJodG1sX2I0MjE1NGE1Mjk0ZTQ4NDZiYWY4ZTZiNDU0YjI2MTYwIiBzdHlsZT0id2lkdGg6IDEwMC4wJTsgaGVpZ2h0OiAxMDAuMCU7Ij5DYWZlIEF2aXNzaW5pYSAozprOsc+Gzq0gzpHOss+Fz4PPg865zr3Or86xKTwvZGl2PicpWzBdOwogICAgICAgICAgICAgICAgcG9wdXBfMDM3NTEzMWZkMWE1NDQ3YjgxNGE4ZGE4M2YzY2E2OWQuc2V0Q29udGVudChodG1sX2I0MjE1NGE1Mjk0ZTQ4NDZiYWY4ZTZiNDU0YjI2MTYwKTsKICAgICAgICAgICAgCgogICAgICAgICAgICBjaXJjbGVfbWFya2VyXzY3MDExMzQ5MzVkMDQ0NzViZDc1NTAyZTY5ZmU4ZjhkLmJpbmRQb3B1cChwb3B1cF8wMzc1MTMxZmQxYTU0NDdiODE0YThkYTgzZjNjYTY5ZCk7CgogICAgICAgICAgICAKICAgICAgICAKICAgIAogICAgICAgICAgICB2YXIgY2lyY2xlX21hcmtlcl83YTU0MzljYTVjYWE0NGUxOWJiMmMyNGNlYzQ5Nzk4MiA9IEwuY2lyY2xlTWFya2VyKAogICAgICAgICAgICAgICAgWzM3Ljk3ODMwMiwyMy43MjY4NDFdLAogICAgICAgICAgICAgICAgewogICJidWJibGluZ01vdXNlRXZlbnRzIjogdHJ1ZSwKICAiY29sb3IiOiAiYmx1ZSIsCiAgImRhc2hBcnJheSI6IG51bGwsCiAgImRhc2hPZmZzZXQiOiBudWxsLAogICJmaWxsIjogdHJ1ZSwKICAiZmlsbENvbG9yIjogIiMzMTg2Y2MiLAogICJmaWxsT3BhY2l0eSI6IDAuNywKICAiZmlsbFJ1bGUiOiAiZXZlbm9kZCIsCiAgImxpbmVDYXAiOiAicm91bmQiLAogICJsaW5lSm9pbiI6ICJyb3VuZCIsCiAgIm9wYWNpdHkiOiAxLjAsCiAgInJhZGl1cyI6IDUsCiAgInN0cm9rZSI6IHRydWUsCiAgIndlaWdodCI6IDMKfQogICAgICAgICAgICAgICAgKS5hZGRUbyhtYXBfNDhkYmQ4ZDQ2ODAyNDNkYWI1MDlmMDQxNWFhMTZkMDApOwogICAgICAgICAgICAKICAgIAogICAgICAgICAgICB2YXIgcG9wdXBfMGIzODM1YTMwNjhiNDI0ZjhkODNhZTM0Y2ZkYWMyMWYgPSBMLnBvcHVwKHttYXhXaWR0aDogJzMwMCd9KTsKCiAgICAgICAgICAgIAogICAgICAgICAgICAgICAgdmFyIGh0bWxfYjFhN2U0N2JjOTM2NGMxNThjMzIyMWQ1Yjc1ZGY2ZDkgPSAkKCc8ZGl2IGlkPSJodG1sX2IxYTdlNDdiYzkzNjRjMTU4YzMyMjFkNWI3NWRmNmQ5IiBzdHlsZT0id2lkdGg6IDEwMC4wJTsgaGVpZ2h0OiAxMDAuMCU7Ij5Eb3BlIFJvYXN0aW5nIENvLjwvZGl2PicpWzBdOwogICAgICAgICAgICAgICAgcG9wdXBfMGIzODM1YTMwNjhiNDI0ZjhkODNhZTM0Y2ZkYWMyMWYuc2V0Q29udGVudChodG1sX2IxYTdlNDdiYzkzNjRjMTU4YzMyMjFkNWI3NWRmNmQ5KTsKICAgICAgICAgICAgCgogICAgICAgICAgICBjaXJjbGVfbWFya2VyXzdhNTQzOWNhNWNhYTQ0ZTE5YmIyYzI0Y2VjNDk3OTgyLmJpbmRQb3B1cChwb3B1cF8wYjM4MzVhMzA2OGI0MjRmOGQ4M2FlMzRjZmRhYzIxZik7CgogICAgICAgICAgICAKICAgICAgICAKICAgIAogICAgICAgICAgICB2YXIgY2lyY2xlX21hcmtlcl8zZDUyYjA2ZDBlZWY0NzJlOGQ0ZmM3MDg5YWZmOGE1ZiA9IEwuY2lyY2xlTWFya2VyKAogICAgICAgICAgICAgICAgWzM3Ljk3MzYwMzU1OTMzNzU2LDIzLjcxMDc4Njg2MjQ2ODU3XSwKICAgICAgICAgICAgICAgIHsKICAiYnViYmxpbmdNb3VzZUV2ZW50cyI6IHRydWUsCiAgImNvbG9yIjogImJsdWUiLAogICJkYXNoQXJyYXkiOiBudWxsLAogICJkYXNoT2Zmc2V0IjogbnVsbCwKICAiZmlsbCI6IHRydWUsCiAgImZpbGxDb2xvciI6ICIjMzE4NmNjIiwKICAiZmlsbE9wYWNpdHkiOiAwLjcsCiAgImZpbGxSdWxlIjogImV2ZW5vZGQiLAogICJsaW5lQ2FwIjogInJvdW5kIiwKICAibGluZUpvaW4iOiAicm91bmQiLAogICJvcGFjaXR5IjogMS4wLAogICJyYWRpdXMiOiA1LAogICJzdHJva2UiOiB0cnVlLAogICJ3ZWlnaHQiOiAzCn0KICAgICAgICAgICAgICAgICkuYWRkVG8obWFwXzQ4ZGJkOGQ0NjgwMjQzZGFiNTA5ZjA0MTVhYTE2ZDAwKTsKICAgICAgICAgICAgCiAgICAKICAgICAgICAgICAgdmFyIHBvcHVwXzM1N2JmNTE1NWIwMDQxZDE5ODk0MDdjODA1NjgyMzg3ID0gTC5wb3B1cCh7bWF4V2lkdGg6ICczMDAnfSk7CgogICAgICAgICAgICAKICAgICAgICAgICAgICAgIHZhciBodG1sXzU4MGY5Y2FhMmQ4NzQ2ZTRiZjQ0NTVlM2UzYTg0Zjk1ID0gJCgnPGRpdiBpZD0iaHRtbF81ODBmOWNhYTJkODc0NmU0YmY0NDU1ZTNlM2E4NGY5NSIgc3R5bGU9IndpZHRoOiAxMDAuMCU7IGhlaWdodDogMTAwLjAlOyI+zqPPgM65z4HPhM+MzrrOv8+Fz4TOvzwvZGl2PicpWzBdOwogICAgICAgICAgICAgICAgcG9wdXBfMzU3YmY1MTU1YjAwNDFkMTk4OTQwN2M4MDU2ODIzODcuc2V0Q29udGVudChodG1sXzU4MGY5Y2FhMmQ4NzQ2ZTRiZjQ0NTVlM2UzYTg0Zjk1KTsKICAgICAgICAgICAgCgogICAgICAgICAgICBjaXJjbGVfbWFya2VyXzNkNTJiMDZkMGVlZjQ3MmU4ZDRmYzcwODlhZmY4YTVmLmJpbmRQb3B1cChwb3B1cF8zNTdiZjUxNTViMDA0MWQxOTg5NDA3YzgwNTY4MjM4Nyk7CgogICAgICAgICAgICAKICAgICAgICAKICAgIAogICAgICAgICAgICB2YXIgY2lyY2xlX21hcmtlcl83M2E4YWY2MzI4YTA0M2YzODBiMTRkMTUzZjQ4YjcwMiA9IEwuY2lyY2xlTWFya2VyKAogICAgICAgICAgICAgICAgWzM3Ljk3MzU2MjgxMTA5NDY2NiwyMy43MjAyNDczMTAyNjk0OTZdLAogICAgICAgICAgICAgICAgewogICJidWJibGluZ01vdXNlRXZlbnRzIjogdHJ1ZSwKICAiY29sb3IiOiAiYmx1ZSIsCiAgImRhc2hBcnJheSI6IG51bGwsCiAgImRhc2hPZmZzZXQiOiBudWxsLAogICJmaWxsIjogdHJ1ZSwKICAiZmlsbENvbG9yIjogIiMzMTg2Y2MiLAogICJmaWxsT3BhY2l0eSI6IDAuNywKICAiZmlsbFJ1bGUiOiAiZXZlbm9kZCIsCiAgImxpbmVDYXAiOiAicm91bmQiLAogICJsaW5lSm9pbiI6ICJyb3VuZCIsCiAgIm9wYWNpdHkiOiAxLjAsCiAgInJhZGl1cyI6IDUsCiAgInN0cm9rZSI6IHRydWUsCiAgIndlaWdodCI6IDMKfQogICAgICAgICAgICAgICAgKS5hZGRUbyhtYXBfNDhkYmQ4ZDQ2ODAyNDNkYWI1MDlmMDQxNWFhMTZkMDApOwogICAgICAgICAgICAKICAgIAogICAgICAgICAgICB2YXIgcG9wdXBfM2EwNjBlYmFiMWQyNGE3OTk1NDQwYjRkZDZlNWFjZGIgPSBMLnBvcHVwKHttYXhXaWR0aDogJzMwMCd9KTsKCiAgICAgICAgICAgIAogICAgICAgICAgICAgICAgdmFyIGh0bWxfYTAzN2MzZGJlYTVmNDkyNTg2ZTM3YTk0ODE4OTdiMDkgPSAkKCc8ZGl2IGlkPSJodG1sX2EwMzdjM2RiZWE1ZjQ5MjU4NmUzN2E5NDgxODk3YjA5IiBzdHlsZT0id2lkdGg6IDEwMC4wJTsgaGVpZ2h0OiAxMDAuMCU7Ij7Oms6xz4bOtc69zrXOr86/zr0gzpHOus+Bzr/PgM+MzrvOtc+Jz4I8L2Rpdj4nKVswXTsKICAgICAgICAgICAgICAgIHBvcHVwXzNhMDYwZWJhYjFkMjRhNzk5NTQ0MGI0ZGQ2ZTVhY2RiLnNldENvbnRlbnQoaHRtbF9hMDM3YzNkYmVhNWY0OTI1ODZlMzdhOTQ4MTg5N2IwOSk7CiAgICAgICAgICAgIAoKICAgICAgICAgICAgY2lyY2xlX21hcmtlcl83M2E4YWY2MzI4YTA0M2YzODBiMTRkMTUzZjQ4YjcwMi5iaW5kUG9wdXAocG9wdXBfM2EwNjBlYmFiMWQyNGE3OTk1NDQwYjRkZDZlNWFjZGIpOwoKICAgICAgICAgICAgCiAgICAgICAgCiAgICAKICAgICAgICAgICAgdmFyIGNpcmNsZV9tYXJrZXJfZmE4YTNiNDg2MTA3NGE1MWE5YjA5NDAxYTE2ZjczNDkgPSBMLmNpcmNsZU1hcmtlcigKICAgICAgICAgICAgICAgIFszNy45NzQ3ODUwMjAyNjcyNSwyMy43MjQ1MjY2MTI3MjM4OF0sCiAgICAgICAgICAgICAgICB7CiAgImJ1YmJsaW5nTW91c2VFdmVudHMiOiB0cnVlLAogICJjb2xvciI6ICJibHVlIiwKICAiZGFzaEFycmF5IjogbnVsbCwKICAiZGFzaE9mZnNldCI6IG51bGwsCiAgImZpbGwiOiB0cnVlLAogICJmaWxsQ29sb3IiOiAiIzMxODZjYyIsCiAgImZpbGxPcGFjaXR5IjogMC43LAogICJmaWxsUnVsZSI6ICJldmVub2RkIiwKICAibGluZUNhcCI6ICJyb3VuZCIsCiAgImxpbmVKb2luIjogInJvdW5kIiwKICAib3BhY2l0eSI6IDEuMCwKICAicmFkaXVzIjogNSwKICAic3Ryb2tlIjogdHJ1ZSwKICAid2VpZ2h0IjogMwp9CiAgICAgICAgICAgICAgICApLmFkZFRvKG1hcF80OGRiZDhkNDY4MDI0M2RhYjUwOWYwNDE1YWExNmQwMCk7CiAgICAgICAgICAgIAogICAgCiAgICAgICAgICAgIHZhciBwb3B1cF8yNzM4ZDhhY2VkMGE0NDFhOTY3NjZjNTc3YjI5NTM2MSA9IEwucG9wdXAoe21heFdpZHRoOiAnMzAwJ30pOwoKICAgICAgICAgICAgCiAgICAgICAgICAgICAgICB2YXIgaHRtbF9jMDBkZDVlOGZhMjg0ZGNlODIxM2M2MjEzYzhjYmZkYyA9ICQoJzxkaXYgaWQ9Imh0bWxfYzAwZGQ1ZThmYTI4NGRjZTgyMTNjNjIxM2M4Y2JmZGMiIHN0eWxlPSJ3aWR0aDogMTAwLjAlOyBoZWlnaHQ6IDEwMC4wJTsiPs6Sz4HPhc+DzqzOus65IFjPjs+Bzr/PgiDOpM6tz4fOvc63z4IgJmFtcDsgzpTPgc6sz4POt8+CPC9kaXY+JylbMF07CiAgICAgICAgICAgICAgICBwb3B1cF8yNzM4ZDhhY2VkMGE0NDFhOTY3NjZjNTc3YjI5NTM2MS5zZXRDb250ZW50KGh0bWxfYzAwZGQ1ZThmYTI4NGRjZTgyMTNjNjIxM2M4Y2JmZGMpOwogICAgICAgICAgICAKCiAgICAgICAgICAgIGNpcmNsZV9tYXJrZXJfZmE4YTNiNDg2MTA3NGE1MWE5YjA5NDAxYTE2ZjczNDkuYmluZFBvcHVwKHBvcHVwXzI3MzhkOGFjZWQwYTQ0MWE5Njc2NmM1NzdiMjk1MzYxKTsKCiAgICAgICAgICAgIAogICAgICAgIAogICAgCiAgICAgICAgICAgIHZhciBjaXJjbGVfbWFya2VyXzlmMGMwM2Q3MDdiNzRiMTJiNWM1ZGY5NGYxYmJiZWJmID0gTC5jaXJjbGVNYXJrZXIoCiAgICAgICAgICAgICAgICBbMzcuOTc2NTI0LDIzLjcyMzMxOF0sCiAgICAgICAgICAgICAgICB7CiAgImJ1YmJsaW5nTW91c2VFdmVudHMiOiB0cnVlLAogICJjb2xvciI6ICJibHVlIiwKICAiZGFzaEFycmF5IjogbnVsbCwKICAiZGFzaE9mZnNldCI6IG51bGwsCiAgImZpbGwiOiB0cnVlLAogICJmaWxsQ29sb3IiOiAiIzMxODZjYyIsCiAgImZpbGxPcGFjaXR5IjogMC43LAogICJmaWxsUnVsZSI6ICJldmVub2RkIiwKICAibGluZUNhcCI6ICJyb3VuZCIsCiAgImxpbmVKb2luIjogInJvdW5kIiwKICAib3BhY2l0eSI6IDEuMCwKICAicmFkaXVzIjogNSwKICAic3Ryb2tlIjogdHJ1ZSwKICAid2VpZ2h0IjogMwp9CiAgICAgICAgICAgICAgICApLmFkZFRvKG1hcF80OGRiZDhkNDY4MDI0M2RhYjUwOWYwNDE1YWExNmQwMCk7CiAgICAgICAgICAgIAogICAgCiAgICAgICAgICAgIHZhciBwb3B1cF9kODMwYTljMjI0MDg0YzRhOWMwZDI0OWE3OTljOTM4YiA9IEwucG9wdXAoe21heFdpZHRoOiAnMzAwJ30pOwoKICAgICAgICAgICAgCiAgICAgICAgICAgICAgICB2YXIgaHRtbF81ODA3NTQ4YTI3NzA0MDAyYjZjOWEwOTViNjgyZDc2NSA9ICQoJzxkaXYgaWQ9Imh0bWxfNTgwNzU0OGEyNzcwNDAwMmI2YzlhMDk1YjY4MmQ3NjUiIHN0eWxlPSJ3aWR0aDogMTAwLjAlOyBoZWlnaHQ6IDEwMC4wJTsiPkVsbHl6PC9kaXY+JylbMF07CiAgICAgICAgICAgICAgICBwb3B1cF9kODMwYTljMjI0MDg0YzRhOWMwZDI0OWE3OTljOTM4Yi5zZXRDb250ZW50KGh0bWxfNTgwNzU0OGEyNzcwNDAwMmI2YzlhMDk1YjY4MmQ3NjUpOwogICAgICAgICAgICAKCiAgICAgICAgICAgIGNpcmNsZV9tYXJrZXJfOWYwYzAzZDcwN2I3NGIxMmI1YzVkZjk0ZjFiYmJlYmYuYmluZFBvcHVwKHBvcHVwX2Q4MzBhOWMyMjQwODRjNGE5YzBkMjQ5YTc5OWM5MzhiKTsKCiAgICAgICAgICAgIAogICAgICAgIAogICAgCiAgICAgICAgICAgIHZhciBjaXJjbGVfbWFya2VyXzRiMGM0MmUxNjRkZjQ1Y2JhODYwNjBhYzk3ZWFmNWQxID0gTC5jaXJjbGVNYXJrZXIoCiAgICAgICAgICAgICAgICBbMzcuOTc3ODMzOTI4NTAyNzcsMjMuNzIxMDk4MDcxMzU0NjZdLAogICAgICAgICAgICAgICAgewogICJidWJibGluZ01vdXNlRXZlbnRzIjogdHJ1ZSwKICAiY29sb3IiOiAiYmx1ZSIsCiAgImRhc2hBcnJheSI6IG51bGwsCiAgImRhc2hPZmZzZXQiOiBudWxsLAogICJmaWxsIjogdHJ1ZSwKICAiZmlsbENvbG9yIjogIiMzMTg2Y2MiLAogICJmaWxsT3BhY2l0eSI6IDAuNywKICAiZmlsbFJ1bGUiOiAiZXZlbm9kZCIsCiAgImxpbmVDYXAiOiAicm91bmQiLAogICJsaW5lSm9pbiI6ICJyb3VuZCIsCiAgIm9wYWNpdHkiOiAxLjAsCiAgInJhZGl1cyI6IDUsCiAgInN0cm9rZSI6IHRydWUsCiAgIndlaWdodCI6IDMKfQogICAgICAgICAgICAgICAgKS5hZGRUbyhtYXBfNDhkYmQ4ZDQ2ODAyNDNkYWI1MDlmMDQxNWFhMTZkMDApOwogICAgICAgICAgICAKICAgIAogICAgICAgICAgICB2YXIgcG9wdXBfMzI3NjM0YjJmNTE3NGRlZGIxNGFkZGMwYTEzOTNiNTkgPSBMLnBvcHVwKHttYXhXaWR0aDogJzMwMCd9KTsKCiAgICAgICAgICAgIAogICAgICAgICAgICAgICAgdmFyIGh0bWxfNDFiNTVhMTVmMzk0NDZhNzlkZTM4NTFhN2M1MzQ4MDIgPSAkKCc8ZGl2IGlkPSJodG1sXzQxYjU1YTE1ZjM5NDQ2YTc5ZGUzODUxYTdjNTM0ODAyIiBzdHlsZT0id2lkdGg6IDEwMC4wJTsgaGVpZ2h0OiAxMDAuMCU7Ij5BYm9kw6k8L2Rpdj4nKVswXTsKICAgICAgICAgICAgICAgIHBvcHVwXzMyNzYzNGIyZjUxNzRkZWRiMTRhZGRjMGExMzkzYjU5LnNldENvbnRlbnQoaHRtbF80MWI1NWExNWYzOTQ0NmE3OWRlMzg1MWE3YzUzNDgwMik7CiAgICAgICAgICAgIAoKICAgICAgICAgICAgY2lyY2xlX21hcmtlcl80YjBjNDJlMTY0ZGY0NWNiYTg2MDYwYWM5N2VhZjVkMS5iaW5kUG9wdXAocG9wdXBfMzI3NjM0YjJmNTE3NGRlZGIxNGFkZGMwYTEzOTNiNTkpOwoKICAgICAgICAgICAgCiAgICAgICAgCiAgICAKICAgICAgICAgICAgdmFyIGNpcmNsZV9tYXJrZXJfNTAyMmEyYjgxZjU1NDgwZWJjZjg4YzBkNjg5NDk4MDcgPSBMLmNpcmNsZU1hcmtlcigKICAgICAgICAgICAgICAgIFszNy45Nzc1MDUxNzAyMzc5NzYsMjMuNzI2ODM5MTg4Mzc3MjVdLAogICAgICAgICAgICAgICAgewogICJidWJibGluZ01vdXNlRXZlbnRzIjogdHJ1ZSwKICAiY29sb3IiOiAiYmx1ZSIsCiAgImRhc2hBcnJheSI6IG51bGwsCiAgImRhc2hPZmZzZXQiOiBudWxsLAogICJmaWxsIjogdHJ1ZSwKICAiZmlsbENvbG9yIjogIiMzMTg2Y2MiLAogICJmaWxsT3BhY2l0eSI6IDAuNywKICAiZmlsbFJ1bGUiOiAiZXZlbm9kZCIsCiAgImxpbmVDYXAiOiAicm91bmQiLAogICJsaW5lSm9pbiI6ICJyb3VuZCIsCiAgIm9wYWNpdHkiOiAxLjAsCiAgInJhZGl1cyI6IDUsCiAgInN0cm9rZSI6IHRydWUsCiAgIndlaWdodCI6IDMKfQogICAgICAgICAgICAgICAgKS5hZGRUbyhtYXBfNDhkYmQ4ZDQ2ODAyNDNkYWI1MDlmMDQxNWFhMTZkMDApOwogICAgICAgICAgICAKICAgIAogICAgICAgICAgICB2YXIgcG9wdXBfMjg2ZGM2NzVmYzgzNDQ4MWIzOTMyOWZlOGRhNzgzMmUgPSBMLnBvcHVwKHttYXhXaWR0aDogJzMwMCd9KTsKCiAgICAgICAgICAgIAogICAgICAgICAgICAgICAgdmFyIGh0bWxfOGRjNjE3OTM4MGU2NDc1NjgyYzhlNGNiMzU4YzRlNDUgPSAkKCc8ZGl2IGlkPSJodG1sXzhkYzYxNzkzODBlNjQ3NTY4MmM4ZTRjYjM1OGM0ZTQ1IiBzdHlsZT0id2lkdGg6IDEwMC4wJTsgaGVpZ2h0OiAxMDAuMCU7Ij5zaXggZC5vLmcuczwvZGl2PicpWzBdOwogICAgICAgICAgICAgICAgcG9wdXBfMjg2ZGM2NzVmYzgzNDQ4MWIzOTMyOWZlOGRhNzgzMmUuc2V0Q29udGVudChodG1sXzhkYzYxNzkzODBlNjQ3NTY4MmM4ZTRjYjM1OGM0ZTQ1KTsKICAgICAgICAgICAgCgogICAgICAgICAgICBjaXJjbGVfbWFya2VyXzUwMjJhMmI4MWY1NTQ4MGViY2Y4OGMwZDY4OTQ5ODA3LmJpbmRQb3B1cChwb3B1cF8yODZkYzY3NWZjODM0NDgxYjM5MzI5ZmU4ZGE3ODMyZSk7CgogICAgICAgICAgICAKICAgICAgICAKICAgIAogICAgICAgICAgICB2YXIgY2lyY2xlX21hcmtlcl83ODcxZjkzZmEwNzQ0ODAyODc5ODMzNmU5OTkzYTdmMCA9IEwuY2lyY2xlTWFya2VyKAogICAgICAgICAgICAgICAgWzM3Ljk3OTExOTM0Njg5NzEsMjMuNzI2NzQyMTYxNjE5NzA4XSwKICAgICAgICAgICAgICAgIHsKICAiYnViYmxpbmdNb3VzZUV2ZW50cyI6IHRydWUsCiAgImNvbG9yIjogImJsdWUiLAogICJkYXNoQXJyYXkiOiBudWxsLAogICJkYXNoT2Zmc2V0IjogbnVsbCwKICAiZmlsbCI6IHRydWUsCiAgImZpbGxDb2xvciI6ICIjMzE4NmNjIiwKICAiZmlsbE9wYWNpdHkiOiAwLjcsCiAgImZpbGxSdWxlIjogImV2ZW5vZGQiLAogICJsaW5lQ2FwIjogInJvdW5kIiwKICAibGluZUpvaW4iOiAicm91bmQiLAogICJvcGFjaXR5IjogMS4wLAogICJyYWRpdXMiOiA1LAogICJzdHJva2UiOiB0cnVlLAogICJ3ZWlnaHQiOiAzCn0KICAgICAgICAgICAgICAgICkuYWRkVG8obWFwXzQ4ZGJkOGQ0NjgwMjQzZGFiNTA5ZjA0MTVhYTE2ZDAwKTsKICAgICAgICAgICAgCiAgICAKICAgICAgICAgICAgdmFyIHBvcHVwXzIxYjEzZmMxZjc5ZTQyYmRhMTdmMzBmMGQ4OTRjZmQyID0gTC5wb3B1cCh7bWF4V2lkdGg6ICczMDAnfSk7CgogICAgICAgICAgICAKICAgICAgICAgICAgICAgIHZhciBodG1sXzhmY2IzY2EzZWNiNDRkMDhiNTRjYWUwMDRhM2U4NmZjID0gJCgnPGRpdiBpZD0iaHRtbF84ZmNiM2NhM2VjYjQ0ZDA4YjU0Y2FlMDA0YTNlODZmYyIgc3R5bGU9IndpZHRoOiAxMDAuMCU7IGhlaWdodDogMTAwLjAlOyI+Q3LDqG1lIFJveWFsZTwvZGl2PicpWzBdOwogICAgICAgICAgICAgICAgcG9wdXBfMjFiMTNmYzFmNzllNDJiZGExN2YzMGYwZDg5NGNmZDIuc2V0Q29udGVudChodG1sXzhmY2IzY2EzZWNiNDRkMDhiNTRjYWUwMDRhM2U4NmZjKTsKICAgICAgICAgICAgCgogICAgICAgICAgICBjaXJjbGVfbWFya2VyXzc4NzFmOTNmYTA3NDQ4MDI4Nzk4MzM2ZTk5OTNhN2YwLmJpbmRQb3B1cChwb3B1cF8yMWIxM2ZjMWY3OWU0MmJkYTE3ZjMwZjBkODk0Y2ZkMik7CgogICAgICAgICAgICAKICAgICAgICAKICAgIAogICAgICAgICAgICB2YXIgY2lyY2xlX21hcmtlcl8wMGI3ZmQxZWQwZmE0Y2UyYmRlMmE1ODJkOGI1ZTM5YyA9IEwuY2lyY2xlTWFya2VyKAogICAgICAgICAgICAgICAgWzM3Ljk3ODE2ODgxMDE1MTY1LDIzLjcyNTc5Njg2MTk4MzMzXSwKICAgICAgICAgICAgICAgIHsKICAiYnViYmxpbmdNb3VzZUV2ZW50cyI6IHRydWUsCiAgImNvbG9yIjogImJsdWUiLAogICJkYXNoQXJyYXkiOiBudWxsLAogICJkYXNoT2Zmc2V0IjogbnVsbCwKICAiZmlsbCI6IHRydWUsCiAgImZpbGxDb2xvciI6ICIjMzE4NmNjIiwKICAiZmlsbE9wYWNpdHkiOiAwLjcsCiAgImZpbGxSdWxlIjogImV2ZW5vZGQiLAogICJsaW5lQ2FwIjogInJvdW5kIiwKICAibGluZUpvaW4iOiAicm91bmQiLAogICJvcGFjaXR5IjogMS4wLAogICJyYWRpdXMiOiA1LAogICJzdHJva2UiOiB0cnVlLAogICJ3ZWlnaHQiOiAzCn0KICAgICAgICAgICAgICAgICkuYWRkVG8obWFwXzQ4ZGJkOGQ0NjgwMjQzZGFiNTA5ZjA0MTVhYTE2ZDAwKTsKICAgICAgICAgICAgCiAgICAKICAgICAgICAgICAgdmFyIHBvcHVwXzkwODA3MmQ5YTAzODQxMWI4NzllNGY4ODU2MWQyNTNhID0gTC5wb3B1cCh7bWF4V2lkdGg6ICczMDAnfSk7CgogICAgICAgICAgICAKICAgICAgICAgICAgICAgIHZhciBodG1sXzQxZmYwMmU2OTE5ZTQyOGU5ODBmMTJhYjVkN2QxNDBiID0gJCgnPGRpdiBpZD0iaHRtbF80MWZmMDJlNjkxOWU0MjhlOTgwZjEyYWI1ZDdkMTQwYiIgc3R5bGU9IndpZHRoOiAxMDAuMCU7IGhlaWdodDogMTAwLjAlOyI+zqTPgc6xzr3Ots6vz4PPhM6/z4E8L2Rpdj4nKVswXTsKICAgICAgICAgICAgICAgIHBvcHVwXzkwODA3MmQ5YTAzODQxMWI4NzllNGY4ODU2MWQyNTNhLnNldENvbnRlbnQoaHRtbF80MWZmMDJlNjkxOWU0MjhlOTgwZjEyYWI1ZDdkMTQwYik7CiAgICAgICAgICAgIAoKICAgICAgICAgICAgY2lyY2xlX21hcmtlcl8wMGI3ZmQxZWQwZmE0Y2UyYmRlMmE1ODJkOGI1ZTM5Yy5iaW5kUG9wdXAocG9wdXBfOTA4MDcyZDlhMDM4NDExYjg3OWU0Zjg4NTYxZDI1M2EpOwoKICAgICAgICAgICAgCiAgICAgICAgCiAgICAKICAgICAgICAgICAgdmFyIGNpcmNsZV9tYXJrZXJfYzNlMGE1YTBlNGY2NGFhNjgyYmEzZWRkMDRjYTU2ODkgPSBMLmNpcmNsZU1hcmtlcigKICAgICAgICAgICAgICAgIFszNy45ODA4NTE3Nzg4NjEyNiwyMy43MjcxNzc0MTI2MTI4MV0sCiAgICAgICAgICAgICAgICB7CiAgImJ1YmJsaW5nTW91c2VFdmVudHMiOiB0cnVlLAogICJjb2xvciI6ICJibHVlIiwKICAiZGFzaEFycmF5IjogbnVsbCwKICAiZGFzaE9mZnNldCI6IG51bGwsCiAgImZpbGwiOiB0cnVlLAogICJmaWxsQ29sb3IiOiAiIzMxODZjYyIsCiAgImZpbGxPcGFjaXR5IjogMC43LAogICJmaWxsUnVsZSI6ICJldmVub2RkIiwKICAibGluZUNhcCI6ICJyb3VuZCIsCiAgImxpbmVKb2luIjogInJvdW5kIiwKICAib3BhY2l0eSI6IDEuMCwKICAicmFkaXVzIjogNSwKICAic3Ryb2tlIjogdHJ1ZSwKICAid2VpZ2h0IjogMwp9CiAgICAgICAgICAgICAgICApLmFkZFRvKG1hcF80OGRiZDhkNDY4MDI0M2RhYjUwOWYwNDE1YWExNmQwMCk7CiAgICAgICAgICAgIAogICAgCiAgICAgICAgICAgIHZhciBwb3B1cF9lZWY4MTMxNDdjOWM0ZmJlOGYyYmM5YmI4MjEyMWJkNiA9IEwucG9wdXAoe21heFdpZHRoOiAnMzAwJ30pOwoKICAgICAgICAgICAgCiAgICAgICAgICAgICAgICB2YXIgaHRtbF84ZTlmYmU4Y2UwZjQ0YzM4YWI5YjUzN2IxNDkzMTAyYiA9ICQoJzxkaXYgaWQ9Imh0bWxfOGU5ZmJlOGNlMGY0NGMzOGFiOWI1MzdiMTQ5MzEwMmIiIHN0eWxlPSJ3aWR0aDogMTAwLjAlOyBoZWlnaHQ6IDEwMC4wJTsiPk1va2thPC9kaXY+JylbMF07CiAgICAgICAgICAgICAgICBwb3B1cF9lZWY4MTMxNDdjOWM0ZmJlOGYyYmM5YmI4MjEyMWJkNi5zZXRDb250ZW50KGh0bWxfOGU5ZmJlOGNlMGY0NGMzOGFiOWI1MzdiMTQ5MzEwMmIpOwogICAgICAgICAgICAKCiAgICAgICAgICAgIGNpcmNsZV9tYXJrZXJfYzNlMGE1YTBlNGY2NGFhNjgyYmEzZWRkMDRjYTU2ODkuYmluZFBvcHVwKHBvcHVwX2VlZjgxMzE0N2M5YzRmYmU4ZjJiYzliYjgyMTIxYmQ2KTsKCiAgICAgICAgICAgIAogICAgICAgIAogICAgCiAgICAgICAgICAgIHZhciBjaXJjbGVfbWFya2VyXzFmZTJiZWQzY2E0ODRiYzI4ODk3ZjQxMmI5ZGFhOWM1ID0gTC5jaXJjbGVNYXJrZXIoCiAgICAgICAgICAgICAgICBbMzcuOTc2OTM2MTg2NTk2Mjg0LDIzLjcxNTY1Mjk5MjU5NjYzNV0sCiAgICAgICAgICAgICAgICB7CiAgImJ1YmJsaW5nTW91c2VFdmVudHMiOiB0cnVlLAogICJjb2xvciI6ICJibHVlIiwKICAiZGFzaEFycmF5IjogbnVsbCwKICAiZGFzaE9mZnNldCI6IG51bGwsCiAgImZpbGwiOiB0cnVlLAogICJmaWxsQ29sb3IiOiAiIzMxODZjYyIsCiAgImZpbGxPcGFjaXR5IjogMC43LAogICJmaWxsUnVsZSI6ICJldmVub2RkIiwKICAibGluZUNhcCI6ICJyb3VuZCIsCiAgImxpbmVKb2luIjogInJvdW5kIiwKICAib3BhY2l0eSI6IDEuMCwKICAicmFkaXVzIjogNSwKICAic3Ryb2tlIjogdHJ1ZSwKICAid2VpZ2h0IjogMwp9CiAgICAgICAgICAgICAgICApLmFkZFRvKG1hcF80OGRiZDhkNDY4MDI0M2RhYjUwOWYwNDE1YWExNmQwMCk7CiAgICAgICAgICAgIAogICAgCiAgICAgICAgICAgIHZhciBwb3B1cF80YTNjNmI2YTgzZjE0MDdjYjExMjYyMjc2YTJiYTZhMCA9IEwucG9wdXAoe21heFdpZHRoOiAnMzAwJ30pOwoKICAgICAgICAgICAgCiAgICAgICAgICAgICAgICB2YXIgaHRtbF9hNTczMDRmZWI3OGY0NWM0Yjk2MDEwYmE5Yjk4MTVlNiA9ICQoJzxkaXYgaWQ9Imh0bWxfYTU3MzA0ZmViNzhmNDVjNGI5NjAxMGJhOWI5ODE1ZTYiIHN0eWxlPSJ3aWR0aDogMTAwLjAlOyBoZWlnaHQ6IDEwMC4wJTsiPs6bzr/Phc6+PC9kaXY+JylbMF07CiAgICAgICAgICAgICAgICBwb3B1cF80YTNjNmI2YTgzZjE0MDdjYjExMjYyMjc2YTJiYTZhMC5zZXRDb250ZW50KGh0bWxfYTU3MzA0ZmViNzhmNDVjNGI5NjAxMGJhOWI5ODE1ZTYpOwogICAgICAgICAgICAKCiAgICAgICAgICAgIGNpcmNsZV9tYXJrZXJfMWZlMmJlZDNjYTQ4NGJjMjg4OTdmNDEyYjlkYWE5YzUuYmluZFBvcHVwKHBvcHVwXzRhM2M2YjZhODNmMTQwN2NiMTEyNjIyNzZhMmJhNmEwKTsKCiAgICAgICAgICAgIAogICAgICAgIAogICAgCiAgICAgICAgICAgIHZhciBjaXJjbGVfbWFya2VyXzZkODhmM2JjMDE3YTRkMzA5ZDMyMzI0OTMxNjkzYTAxID0gTC5jaXJjbGVNYXJrZXIoCiAgICAgICAgICAgICAgICBbMzcuOTg1MjAzNzExNjA2NTUsMjMuNzIwOTMxOTMzNjcwNjVdLAogICAgICAgICAgICAgICAgewogICJidWJibGluZ01vdXNlRXZlbnRzIjogdHJ1ZSwKICAiY29sb3IiOiAiYmx1ZSIsCiAgImRhc2hBcnJheSI6IG51bGwsCiAgImRhc2hPZmZzZXQiOiBudWxsLAogICJmaWxsIjogdHJ1ZSwKICAiZmlsbENvbG9yIjogIiMzMTg2Y2MiLAogICJmaWxsT3BhY2l0eSI6IDAuNywKICAiZmlsbFJ1bGUiOiAiZXZlbm9kZCIsCiAgImxpbmVDYXAiOiAicm91bmQiLAogICJsaW5lSm9pbiI6ICJyb3VuZCIsCiAgIm9wYWNpdHkiOiAxLjAsCiAgInJhZGl1cyI6IDUsCiAgInN0cm9rZSI6IHRydWUsCiAgIndlaWdodCI6IDMKfQogICAgICAgICAgICAgICAgKS5hZGRUbyhtYXBfNDhkYmQ4ZDQ2ODAyNDNkYWI1MDlmMDQxNWFhMTZkMDApOwogICAgICAgICAgICAKICAgIAogICAgICAgICAgICB2YXIgcG9wdXBfZDdlMDdmY2U2ODMyNGEwZWE3NzhmZjc5OTVjOGYxMjIgPSBMLnBvcHVwKHttYXhXaWR0aDogJzMwMCd9KTsKCiAgICAgICAgICAgIAogICAgICAgICAgICAgICAgdmFyIGh0bWxfZGNlZTQwNWE2YTg3NDg2ZWI3OGYzMzViMDk1OTUzY2MgPSAkKCc8ZGl2IGlkPSJodG1sX2RjZWU0MDVhNmE4NzQ4NmViNzhmMzM1YjA5NTk1M2NjIiBzdHlsZT0id2lkdGg6IDEwMC4wJTsgaGVpZ2h0OiAxMDAuMCU7Ij5CcmVhZCBGYWN0b3J5PC9kaXY+JylbMF07CiAgICAgICAgICAgICAgICBwb3B1cF9kN2UwN2ZjZTY4MzI0YTBlYTc3OGZmNzk5NWM4ZjEyMi5zZXRDb250ZW50KGh0bWxfZGNlZTQwNWE2YTg3NDg2ZWI3OGYzMzViMDk1OTUzY2MpOwogICAgICAgICAgICAKCiAgICAgICAgICAgIGNpcmNsZV9tYXJrZXJfNmQ4OGYzYmMwMTdhNGQzMDlkMzIzMjQ5MzE2OTNhMDEuYmluZFBvcHVwKHBvcHVwX2Q3ZTA3ZmNlNjgzMjRhMGVhNzc4ZmY3OTk1YzhmMTIyKTsKCiAgICAgICAgICAgIAogICAgICAgIAogICAgCiAgICAgICAgICAgIHZhciBjaXJjbGVfbWFya2VyXzBiZmRmYmFlZTRlMzRiNDdiZDM5YmRlZjI4ODUzNWM1ID0gTC5jaXJjbGVNYXJrZXIoCiAgICAgICAgICAgICAgICBbMzcuOTc1MzMyMjk5NzkzOSwyMy43MDY3NjM2MTgwMjYyMzNdLAogICAgICAgICAgICAgICAgewogICJidWJibGluZ01vdXNlRXZlbnRzIjogdHJ1ZSwKICAiY29sb3IiOiAiYmx1ZSIsCiAgImRhc2hBcnJheSI6IG51bGwsCiAgImRhc2hPZmZzZXQiOiBudWxsLAogICJmaWxsIjogdHJ1ZSwKICAiZmlsbENvbG9yIjogIiMzMTg2Y2MiLAogICJmaWxsT3BhY2l0eSI6IDAuNywKICAiZmlsbFJ1bGUiOiAiZXZlbm9kZCIsCiAgImxpbmVDYXAiOiAicm91bmQiLAogICJsaW5lSm9pbiI6ICJyb3VuZCIsCiAgIm9wYWNpdHkiOiAxLjAsCiAgInJhZGl1cyI6IDUsCiAgInN0cm9rZSI6IHRydWUsCiAgIndlaWdodCI6IDMKfQogICAgICAgICAgICAgICAgKS5hZGRUbyhtYXBfNDhkYmQ4ZDQ2ODAyNDNkYWI1MDlmMDQxNWFhMTZkMDApOwogICAgICAgICAgICAKICAgIAogICAgICAgICAgICB2YXIgcG9wdXBfZjk2YmRmMjA1ODIwNDAwNDgxOGMyMTZkZWE3OGIyZTkgPSBMLnBvcHVwKHttYXhXaWR0aDogJzMwMCd9KTsKCiAgICAgICAgICAgIAogICAgICAgICAgICAgICAgdmFyIGh0bWxfM2I1NDcwNmJmMmNmNGU2ZTk3NmE0ZTc5MDJmMjM0OWEgPSAkKCc8ZGl2IGlkPSJodG1sXzNiNTQ3MDZiZjJjZjRlNmU5NzZhNGU3OTAyZjIzNDlhIiBzdHlsZT0id2lkdGg6IDEwMC4wJTsgaGVpZ2h0OiAxMDAuMCU7Ij5CZWF2ZXI8L2Rpdj4nKVswXTsKICAgICAgICAgICAgICAgIHBvcHVwX2Y5NmJkZjIwNTgyMDQwMDQ4MThjMjE2ZGVhNzhiMmU5LnNldENvbnRlbnQoaHRtbF8zYjU0NzA2YmYyY2Y0ZTZlOTc2YTRlNzkwMmYyMzQ5YSk7CiAgICAgICAgICAgIAoKICAgICAgICAgICAgY2lyY2xlX21hcmtlcl8wYmZkZmJhZWU0ZTM0YjQ3YmQzOWJkZWYyODg1MzVjNS5iaW5kUG9wdXAocG9wdXBfZjk2YmRmMjA1ODIwNDAwNDgxOGMyMTZkZWE3OGIyZTkpOwoKICAgICAgICAgICAgCiAgICAgICAgCiAgICAKICAgICAgICAgICAgdmFyIGNpcmNsZV9tYXJrZXJfMDllYjgwNWQ5YzFkNGI3YzlmMzllMDFkYjY2MzBiMGYgPSBMLmNpcmNsZU1hcmtlcigKICAgICAgICAgICAgICAgIFszNy45NzU4OTE4MzU0MDY4OCwyMy43MjQyMjI3ODA4NzM2NzRdLAogICAgICAgICAgICAgICAgewogICJidWJibGluZ01vdXNlRXZlbnRzIjogdHJ1ZSwKICAiY29sb3IiOiAiYmx1ZSIsCiAgImRhc2hBcnJheSI6IG51bGwsCiAgImRhc2hPZmZzZXQiOiBudWxsLAogICJmaWxsIjogdHJ1ZSwKICAiZmlsbENvbG9yIjogIiMzMTg2Y2MiLAogICJmaWxsT3BhY2l0eSI6IDAuNywKICAiZmlsbFJ1bGUiOiAiZXZlbm9kZCIsCiAgImxpbmVDYXAiOiAicm91bmQiLAogICJsaW5lSm9pbiI6ICJyb3VuZCIsCiAgIm9wYWNpdHkiOiAxLjAsCiAgInJhZGl1cyI6IDUsCiAgInN0cm9rZSI6IHRydWUsCiAgIndlaWdodCI6IDMKfQogICAgICAgICAgICAgICAgKS5hZGRUbyhtYXBfNDhkYmQ4ZDQ2ODAyNDNkYWI1MDlmMDQxNWFhMTZkMDApOwogICAgICAgICAgICAKICAgIAogICAgICAgICAgICB2YXIgcG9wdXBfMTAzMDk4NjdjMTFmNGU4OWIyN2E1N2Y1ZDUzZjgzYTggPSBMLnBvcHVwKHttYXhXaWR0aDogJzMwMCd9KTsKCiAgICAgICAgICAgIAogICAgICAgICAgICAgICAgdmFyIGh0bWxfZjQxMDZjZjc2MDFmNGE2YTlkMWViZDRlNmM1ODYxY2YgPSAkKCc8ZGl2IGlkPSJodG1sX2Y0MTA2Y2Y3NjAxZjRhNmE5ZDFlYmQ0ZTZjNTg2MWNmIiBzdHlsZT0id2lkdGg6IDEwMC4wJTsgaGVpZ2h0OiAxMDAuMCU7Ij5DaWNjdXM8L2Rpdj4nKVswXTsKICAgICAgICAgICAgICAgIHBvcHVwXzEwMzA5ODY3YzExZjRlODliMjdhNTdmNWQ1M2Y4M2E4LnNldENvbnRlbnQoaHRtbF9mNDEwNmNmNzYwMWY0YTZhOWQxZWJkNGU2YzU4NjFjZik7CiAgICAgICAgICAgIAoKICAgICAgICAgICAgY2lyY2xlX21hcmtlcl8wOWViODA1ZDljMWQ0YjdjOWYzOWUwMWRiNjYzMGIwZi5iaW5kUG9wdXAocG9wdXBfMTAzMDk4NjdjMTFmNGU4OWIyN2E1N2Y1ZDUzZjgzYTgpOwoKICAgICAgICAgICAgCiAgICAgICAgCiAgICAKICAgICAgICAgICAgdmFyIGNpcmNsZV9tYXJrZXJfMjcyNjhkNzQyOTNjNGUzM2E5MjMwM2UzZDM4Y2QyZjYgPSBMLmNpcmNsZU1hcmtlcigKICAgICAgICAgICAgICAgIFszNy45NzYzNDY4NzY5MjgyNywyMy43MjIxMDgwNjI3MDM3OF0sCiAgICAgICAgICAgICAgICB7CiAgImJ1YmJsaW5nTW91c2VFdmVudHMiOiB0cnVlLAogICJjb2xvciI6ICJibHVlIiwKICAiZGFzaEFycmF5IjogbnVsbCwKICAiZGFzaE9mZnNldCI6IG51bGwsCiAgImZpbGwiOiB0cnVlLAogICJmaWxsQ29sb3IiOiAiIzMxODZjYyIsCiAgImZpbGxPcGFjaXR5IjogMC43LAogICJmaWxsUnVsZSI6ICJldmVub2RkIiwKICAibGluZUNhcCI6ICJyb3VuZCIsCiAgImxpbmVKb2luIjogInJvdW5kIiwKICAib3BhY2l0eSI6IDEuMCwKICAicmFkaXVzIjogNSwKICAic3Ryb2tlIjogdHJ1ZSwKICAid2VpZ2h0IjogMwp9CiAgICAgICAgICAgICAgICApLmFkZFRvKG1hcF80OGRiZDhkNDY4MDI0M2RhYjUwOWYwNDE1YWExNmQwMCk7CiAgICAgICAgICAgIAogICAgCiAgICAgICAgICAgIHZhciBwb3B1cF8yNjE3MGMxZWNhZDQ0MzY0YmNlMTJmYjMyY2NlYTBmYSA9IEwucG9wdXAoe21heFdpZHRoOiAnMzAwJ30pOwoKICAgICAgICAgICAgCiAgICAgICAgICAgICAgICB2YXIgaHRtbF9mZTQzMTdhMzU3YmE0MjQzOTc3YWU4YWY5MDY0NGMxMCA9ICQoJzxkaXYgaWQ9Imh0bWxfZmU0MzE3YTM1N2JhNDI0Mzk3N2FlOGFmOTA2NDRjMTAiIHN0eWxlPSJ3aWR0aDogMTAwLjAlOyBoZWlnaHQ6IDEwMC4wJTsiPkF0dGFsb3MgKM6Gz4TPhM6xzrvOv8+CKTwvZGl2PicpWzBdOwogICAgICAgICAgICAgICAgcG9wdXBfMjYxNzBjMWVjYWQ0NDM2NGJjZTEyZmIzMmNjZWEwZmEuc2V0Q29udGVudChodG1sX2ZlNDMxN2EzNTdiYTQyNDM5NzdhZThhZjkwNjQ0YzEwKTsKICAgICAgICAgICAgCgogICAgICAgICAgICBjaXJjbGVfbWFya2VyXzI3MjY4ZDc0MjkzYzRlMzNhOTIzMDNlM2QzOGNkMmY2LmJpbmRQb3B1cChwb3B1cF8yNjE3MGMxZWNhZDQ0MzY0YmNlMTJmYjMyY2NlYTBmYSk7CgogICAgICAgICAgICAKICAgICAgICAKICAgIAogICAgICAgICAgICB2YXIgY2lyY2xlX21hcmtlcl80Yzg3Nzg3M2JjMTg0NjBhYjhmMmEwYThjNTQzMzllMyA9IEwuY2lyY2xlTWFya2VyKAogICAgICAgICAgICAgICAgWzM3Ljk3NTcxNzA3NzEyNjgxNiwyMy43MTM5MjU4OTYyMDE4MjVdLAogICAgICAgICAgICAgICAgewogICJidWJibGluZ01vdXNlRXZlbnRzIjogdHJ1ZSwKICAiY29sb3IiOiAiYmx1ZSIsCiAgImRhc2hBcnJheSI6IG51bGwsCiAgImRhc2hPZmZzZXQiOiBudWxsLAogICJmaWxsIjogdHJ1ZSwKICAiZmlsbENvbG9yIjogIiMzMTg2Y2MiLAogICJmaWxsT3BhY2l0eSI6IDAuNywKICAiZmlsbFJ1bGUiOiAiZXZlbm9kZCIsCiAgImxpbmVDYXAiOiAicm91bmQiLAogICJsaW5lSm9pbiI6ICJyb3VuZCIsCiAgIm9wYWNpdHkiOiAxLjAsCiAgInJhZGl1cyI6IDUsCiAgInN0cm9rZSI6IHRydWUsCiAgIndlaWdodCI6IDMKfQogICAgICAgICAgICAgICAgKS5hZGRUbyhtYXBfNDhkYmQ4ZDQ2ODAyNDNkYWI1MDlmMDQxNWFhMTZkMDApOwogICAgICAgICAgICAKICAgIAogICAgICAgICAgICB2YXIgcG9wdXBfYWU2OWE1ZGZjMDg4NGUxZWJhMjI2OTA4NDI0MWIyZDMgPSBMLnBvcHVwKHttYXhXaWR0aDogJzMwMCd9KTsKCiAgICAgICAgICAgIAogICAgICAgICAgICAgICAgdmFyIGh0bWxfMTgzN2MxMWZhYzAyNDlmNGIxNDg2YTM3N2Y5ODFjMWUgPSAkKCc8ZGl2IGlkPSJodG1sXzE4MzdjMTFmYWMwMjQ5ZjRiMTQ4NmEzNzdmOTgxYzFlIiBzdHlsZT0id2lkdGg6IDEwMC4wJTsgaGVpZ2h0OiAxMDAuMCU7Ij7OoM6xz4HOrM64z4XPgc6/PC9kaXY+JylbMF07CiAgICAgICAgICAgICAgICBwb3B1cF9hZTY5YTVkZmMwODg0ZTFlYmEyMjY5MDg0MjQxYjJkMy5zZXRDb250ZW50KGh0bWxfMTgzN2MxMWZhYzAyNDlmNGIxNDg2YTM3N2Y5ODFjMWUpOwogICAgICAgICAgICAKCiAgICAgICAgICAgIGNpcmNsZV9tYXJrZXJfNGM4Nzc4NzNiYzE4NDYwYWI4ZjJhMGE4YzU0MzM5ZTMuYmluZFBvcHVwKHBvcHVwX2FlNjlhNWRmYzA4ODRlMWViYTIyNjkwODQyNDFiMmQzKTsKCiAgICAgICAgICAgIAogICAgICAgIAogICAgCiAgICAgICAgICAgIHZhciBjaXJjbGVfbWFya2VyXzg3NmU4YjczNWRiOTQxZGFiMGJiMDU3MDRiZDJiOWUyID0gTC5jaXJjbGVNYXJrZXIoCiAgICAgICAgICAgICAgICBbMzcuOTc3ODcwMjAzNTgwMjEsMjMuNzI0NTg1MzgxNTg2MzRdLAogICAgICAgICAgICAgICAgewogICJidWJibGluZ01vdXNlRXZlbnRzIjogdHJ1ZSwKICAiY29sb3IiOiAiYmx1ZSIsCiAgImRhc2hBcnJheSI6IG51bGwsCiAgImRhc2hPZmZzZXQiOiBudWxsLAogICJmaWxsIjogdHJ1ZSwKICAiZmlsbENvbG9yIjogIiMzMTg2Y2MiLAogICJmaWxsT3BhY2l0eSI6IDAuNywKICAiZmlsbFJ1bGUiOiAiZXZlbm9kZCIsCiAgImxpbmVDYXAiOiAicm91bmQiLAogICJsaW5lSm9pbiI6ICJyb3VuZCIsCiAgIm9wYWNpdHkiOiAxLjAsCiAgInJhZGl1cyI6IDUsCiAgInN0cm9rZSI6IHRydWUsCiAgIndlaWdodCI6IDMKfQogICAgICAgICAgICAgICAgKS5hZGRUbyhtYXBfNDhkYmQ4ZDQ2ODAyNDNkYWI1MDlmMDQxNWFhMTZkMDApOwogICAgICAgICAgICAKICAgIAogICAgICAgICAgICB2YXIgcG9wdXBfODI5ODdkODNiNTkwNDdmMGIxMTNjMTNhNWZmMDcyZTUgPSBMLnBvcHVwKHttYXhXaWR0aDogJzMwMCd9KTsKCiAgICAgICAgICAgIAogICAgICAgICAgICAgICAgdmFyIGh0bWxfNzFkNDBlOTMwNWJiNDZiYWEyMDI4Y2M0NzRiNjYxMWMgPSAkKCc8ZGl2IGlkPSJodG1sXzcxZDQwZTkzMDViYjQ2YmFhMjAyOGNjNDc0YjY2MTFjIiBzdHlsZT0id2lkdGg6IDEwMC4wJTsgaGVpZ2h0OiAxMDAuMCU7Ij7OpM6/IM6azr/Phc67zr/Pjc+Bzrkgz4TOv8+FIM6oz4XPgc+Bzq48L2Rpdj4nKVswXTsKICAgICAgICAgICAgICAgIHBvcHVwXzgyOTg3ZDgzYjU5MDQ3ZjBiMTEzYzEzYTVmZjA3MmU1LnNldENvbnRlbnQoaHRtbF83MWQ0MGU5MzA1YmI0NmJhYTIwMjhjYzQ3NGI2NjExYyk7CiAgICAgICAgICAgIAoKICAgICAgICAgICAgY2lyY2xlX21hcmtlcl84NzZlOGI3MzVkYjk0MWRhYjBiYjA1NzA0YmQyYjllMi5iaW5kUG9wdXAocG9wdXBfODI5ODdkODNiNTkwNDdmMGIxMTNjMTNhNWZmMDcyZTUpOwoKICAgICAgICAgICAgCiAgICAgICAgCiAgICAKICAgICAgICAgICAgdmFyIGNpcmNsZV9tYXJrZXJfNGVkMjdhMmFlNjVlNGE2YWEzMDdmMGY3ZTZiMWY3ZmMgPSBMLmNpcmNsZU1hcmtlcigKICAgICAgICAgICAgICAgIFszNy45NzY1MzgxOTIzMjgyLDIzLjcyMTc5MTgzMzgzODI3OF0sCiAgICAgICAgICAgICAgICB7CiAgImJ1YmJsaW5nTW91c2VFdmVudHMiOiB0cnVlLAogICJjb2xvciI6ICJibHVlIiwKICAiZGFzaEFycmF5IjogbnVsbCwKICAiZGFzaE9mZnNldCI6IG51bGwsCiAgImZpbGwiOiB0cnVlLAogICJmaWxsQ29sb3IiOiAiIzMxODZjYyIsCiAgImZpbGxPcGFjaXR5IjogMC43LAogICJmaWxsUnVsZSI6ICJldmVub2RkIiwKICAibGluZUNhcCI6ICJyb3VuZCIsCiAgImxpbmVKb2luIjogInJvdW5kIiwKICAib3BhY2l0eSI6IDEuMCwKICAicmFkaXVzIjogNSwKICAic3Ryb2tlIjogdHJ1ZSwKICAid2VpZ2h0IjogMwp9CiAgICAgICAgICAgICAgICApLmFkZFRvKG1hcF80OGRiZDhkNDY4MDI0M2RhYjUwOWYwNDE1YWExNmQwMCk7CiAgICAgICAgICAgIAogICAgCiAgICAgICAgICAgIHZhciBwb3B1cF8yYTUxNTg0MjkzYmI0MTIwOTg1NTFkMTY4ZjhiMzI4MiA9IEwucG9wdXAoe21heFdpZHRoOiAnMzAwJ30pOwoKICAgICAgICAgICAgCiAgICAgICAgICAgICAgICB2YXIgaHRtbF81OTBlYTE4OTUxZGE0NzYxOWQ5YWI0Nzc4ZjQ4NDYxYSA9ICQoJzxkaXYgaWQ9Imh0bWxfNTkwZWExODk1MWRhNDc2MTlkOWFiNDc3OGY0ODQ2MWEiIHN0eWxlPSJ3aWR0aDogMTAwLjAlOyBoZWlnaHQ6IDEwMC4wJTsiPkNhcnRlIFBvc3RhbGU8L2Rpdj4nKVswXTsKICAgICAgICAgICAgICAgIHBvcHVwXzJhNTE1ODQyOTNiYjQxMjA5ODU1MWQxNjhmOGIzMjgyLnNldENvbnRlbnQoaHRtbF81OTBlYTE4OTUxZGE0NzYxOWQ5YWI0Nzc4ZjQ4NDYxYSk7CiAgICAgICAgICAgIAoKICAgICAgICAgICAgY2lyY2xlX21hcmtlcl80ZWQyN2EyYWU2NWU0YTZhYTMwN2YwZjdlNmIxZjdmYy5iaW5kUG9wdXAocG9wdXBfMmE1MTU4NDI5M2JiNDEyMDk4NTUxZDE2OGY4YjMyODIpOwoKICAgICAgICAgICAgCiAgICAgICAgCiAgICAKICAgICAgICAgICAgdmFyIGNpcmNsZV9tYXJrZXJfOWEwZWY3NzY5YTczNGNiZDg3MTc1MGZmNzk2NDc0YzUgPSBMLmNpcmNsZU1hcmtlcigKICAgICAgICAgICAgICAgIFszNy45ODYxMzMsMjMuNzI4MjY3XSwKICAgICAgICAgICAgICAgIHsKICAiYnViYmxpbmdNb3VzZUV2ZW50cyI6IHRydWUsCiAgImNvbG9yIjogInJlZCIsCiAgImRhc2hBcnJheSI6IG51bGwsCiAgImRhc2hPZmZzZXQiOiBudWxsLAogICJmaWxsIjogdHJ1ZSwKICAiZmlsbENvbG9yIjogIiMzMTg2Y2MiLAogICJmaWxsT3BhY2l0eSI6IDAuNywKICAiZmlsbFJ1bGUiOiAiZXZlbm9kZCIsCiAgImxpbmVDYXAiOiAicm91bmQiLAogICJsaW5lSm9pbiI6ICJyb3VuZCIsCiAgIm9wYWNpdHkiOiAxLjAsCiAgInJhZGl1cyI6IDE1LAogICJzdHJva2UiOiB0cnVlLAogICJ3ZWlnaHQiOiAzCn0KICAgICAgICAgICAgICAgICkuYWRkVG8obWFwXzQ4ZGJkOGQ0NjgwMjQzZGFiNTA5ZjA0MTVhYTE2ZDAwKTsKICAgICAgICAgICAgCiAgICAKICAgICAgICAgICAgdmFyIHBvcHVwXzIyZTc4MWNhYzA0NjRhZmFiMDlkNGM4MjBiNThmYzkzID0gTC5wb3B1cCh7bWF4V2lkdGg6ICczMDAnfSk7CgogICAgICAgICAgICAKICAgICAgICAgICAgICAgIHZhciBodG1sX2YzY2NkMmM0MDhjMDQxNjU4ZTgyNDM5NTAyZTJjZWUwID0gJCgnPGRpdiBpZD0iaHRtbF9mM2NjZDJjNDA4YzA0MTY1OGU4MjQzOTUwMmUyY2VlMCIgc3R5bGU9IndpZHRoOiAxMDAuMCU7IGhlaWdodDogMTAwLjAlOyI+T3B0aW1hbCBsb2NhdGlvbiBmb3IgQ2FmZTwvZGl2PicpWzBdOwogICAgICAgICAgICAgICAgcG9wdXBfMjJlNzgxY2FjMDQ2NGFmYWIwOWQ0YzgyMGI1OGZjOTMuc2V0Q29udGVudChodG1sX2YzY2NkMmM0MDhjMDQxNjU4ZTgyNDM5NTAyZTJjZWUwKTsKICAgICAgICAgICAgCgogICAgICAgICAgICBjaXJjbGVfbWFya2VyXzlhMGVmNzc2OWE3MzRjYmQ4NzE3NTBmZjc5NjQ3NGM1LmJpbmRQb3B1cChwb3B1cF8yMmU3ODFjYWMwNDY0YWZhYjA5ZDRjODIwYjU4ZmM5Myk7CgogICAgICAgICAgICAKICAgICAgICAKPC9zY3JpcHQ+ onload=\"this.contentDocument.open();this.contentDocument.write(atob(this.getAttribute('data-html')));this.contentDocument.close();\" allowfullscreen webkitallowfullscreen mozallowfullscreen></iframe></div></div>"
      ],
      "text/plain": [
       "<folium.folium.Map at 0x14562a82cc0>"
      ]
     },
     "execution_count": 30,
     "metadata": {},
     "output_type": "execute_result"
    }
   ],
   "source": [
    "lat = 37.986133\n",
    "lng = 23.728267\n",
    "map_athens = folium.Map(location=[lat, lng], zoom_start=17)\n",
    "add_markers(df)\n",
    "folium.CircleMarker(\n",
    "    [lat, lng],\n",
    "    radius=15,\n",
    "    popup=\"Optimal location for Cafe\",\n",
    "    color='red',\n",
    "    fill=True,\n",
    "    fill_color='#3186cc',\n",
    "    fill_opacity=0.7,\n",
    "    parse_html=False).add_to(map_athens)\n",
    "map_athens"
   ]
  },
  {
   "cell_type": "markdown",
   "metadata": {},
   "source": [
    "### Discussion"
   ]
  },
  {
   "cell_type": "markdown",
   "metadata": {},
   "source": [
    "In this project, data was extracted from the Foursquare API to create a map with the locations of cafes in Athens, Greece. By visualizing the locations, we have found a more isolated place that is near the center of the city where little to no cafes exist. Hence we propose this location for a new coffee shop! "
   ]
  },
  {
   "cell_type": "code",
   "execution_count": null,
   "metadata": {},
   "outputs": [],
   "source": []
  }
 ],
 "metadata": {
  "kernelspec": {
   "display_name": "Python 3",
   "language": "python",
   "name": "python3"
  },
  "language_info": {
   "codemirror_mode": {
    "name": "ipython",
    "version": 3
   },
   "file_extension": ".py",
   "mimetype": "text/x-python",
   "name": "python",
   "nbconvert_exporter": "python",
   "pygments_lexer": "ipython3",
   "version": "3.6.9"
  }
 },
 "nbformat": 4,
 "nbformat_minor": 2
}
